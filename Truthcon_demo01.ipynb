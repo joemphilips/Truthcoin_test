{
 "cells": [
  {
   "cell_type": "markdown",
   "metadata": {
    "deletable": true,
    "editable": true
   },
   "source": [
    "# Demo for Truthcoin\n",
    "## Author: [joemphilips](http://joemphilips.com)\n",
    "\n",
    "This notebook has been written solely for the purpose of my learning about [Truthcoin/hivemind](http://bitcoinhivemind.com/).\n",
    "if there is any false statement or misconception, the entire blame goes to me and not to the original author(Paul Sztorc)\n",
    "\n",
    "> このような引用文は宮本による注釈、メモを明示する際に記す。"
   ]
  },
  {
   "cell_type": "markdown",
   "metadata": {
    "deletable": true,
    "editable": true
   },
   "source": [
    "## Overview\n",
    "\n",
    "Truthcoinでは、Cashcoin(CSH)とVoteCoin(VTC)という2つのコインを使用する。\n",
    "\n",
    "#### 1. CSH\n",
    "\n",
    "CSHはBitcoinと1:1で交換可能な通貨で、所持することによりTruthcoin特有の機能、例えばPredictoin Market(PM)の作成、PMのシェアの売買などを行えるようになる。\n",
    "\n",
    "#### 2. VTC\n",
    "\n",
    "VTCは「評判」を表すもので、Truthcoin特有の発明である。\n",
    "評判を交換可能なものとすることで様々なメリットがある。\n",
    "\n",
    "1. Sybil-attackに対する攻撃\n",
    "2. 所有権とコントロールのアラインメント ... 価値の追加、破棄はそのまま報酬とペナルティになる。(?)\n",
    "3. 活発に活動していないエージェントに対して罰則を与えることができる。\n",
    "4. インセンティブの計算から、「時間」という次元を取り除く。したがって「全評判を犠牲にしてCSHを手に入れる」という破滅的現象(exit scam, GOX)を防止することができる。\n",
    "\n",
    "Truthcoinはある種の「オラクルコーポレーション」であるサブセクション\n",
    "にわけられ、これを「ブランチ」と呼ぶ。\n",
    "それぞれのブランチは固有のVotecoinの集合を持ち、ブランチ内での保有VTCはブランチの収益の分配に使用される。\n",
    "\n",
    "価値の保存という機能においては、VTCはBTC・CSHには劣る。というのも常に投票に参加し続けていないと原価していくためである。\n",
    "イメージとしては従業員IDに近い。\n",
    "\n",
    "「投票トランザクション」と「移譲トランザクション」を分ける。\n",
    "全部で10000アドレス\n",
    "\n",
    "##### VTCの所有権は投票活動に応じて移行する\n",
    "\n",
    "1. 保有者が、投票をしなかったり多数派と同じ結果に一致しない投票をした場合、VTCは流出する。\n",
    "2. 投票者が少ない命題や、票が割れるような命題に投票した場合、VTCを手に入れる。\n",
    "\n",
    "### マーケットの自動調整\n",
    "\n",
    "1. 流通速度を加味して物価を調整するという方法を用いる、具体的には添付のExcel fileを参照。\n",
    "\n",
    "また、「トレーダー」として働くプロトコルは以下の役割を持つ。\n",
    "\n",
    "2. LMSR Technologyを用いて、一定の流動性が担保されていることを保証する。\n",
    "3. ブロックチェーンのプロパティを持ち、Cencership resistanceを担保する。\n",
    "4. 資本の流通や、マーケットの開示から閉鎖までをマネージする。\n",
    "\n",
    "\n"
   ]
  },
  {
   "cell_type": "markdown",
   "metadata": {
    "deletable": true,
    "editable": true
   },
   "source": [
    "\n",
    "### インセンティブ設計の基本方針\n",
    "\n",
    "#### 1. Author\n",
    "\n",
    "a. だれでも自由にあらゆるマーケットを作り、そのAuthorになることができる。\n",
    "b. Authorは、アウトカムが特定の日付までに誰の目にも明らかな形で開示されるようなマーケットだけを作成するようなインセンティブを持つ。\n",
    "c. Authorは、十分な流通量が見込める(異なる見解が社会に存在し、したがってPMを作るメリットが見込める)マーケットのみを作成するインセンティブがある。\n",
    "d. マーケットの開示当初から高い流動性を持つことが見込めるものを作製するインセンティブがある。\n",
    "e. トレーダーに自身が信用に値することを証明する必要がない(自動で証明される。\n",
    ")。\n",
    "\n",
    "\n",
    "#### 2. VoteCoin保持者(「投票者」)\n",
    "\n",
    "a. 投票者は、自身の所属するブランチ(サブマーケットのこと。例えば「スポーツ」「サイエンス」「政治」など)における、ネットワークの長期的信頼を保つインセンティブがある。\n",
    "b. 投票者はすべての意思決定に投票するインセンティブがある。\n",
    "c. 投票者は他の投票者が投票すると思われる内容に自分も投票するインセンティブがある。\n",
    "\n",
    "#### 3. トレーダー\n",
    "\n",
    "通常の予測市場においてベッティングする人と全く同様。異なる点は\n",
    "\n",
    "a. カウンターパーティリスク(胴元の不正、オッズ比の操作、マーケットの内容の検閲、など)がない\n",
    "b. 代わりにブロックチェーンとその運用プロトコルを信用しなくてはならない。\n",
    "\n",
    "#### 4. マイナー\n",
    "\n",
    "a. ビットコインのサイドチェーンとして、merged miningを行うため、マイニングの限界費用はゼロである。\n",
    "したがってマイナーは常にブロックをマイニングする動機を持つ。\n",
    "ビットコインが消えた場合も、そのままTruthcoinのマイナーになれるため、マイニングをやめる動機にはならない。\n",
    "\n",
    "Voteをする際のトランザクションはBallotと呼ばれる。"
   ]
  },
  {
   "cell_type": "markdown",
   "metadata": {
    "deletable": true,
    "editable": true
   },
   "source": [
    "## マーケットの流れ\n",
    "\n",
    "投票対象となる命題をDecisionと呼び、以下の2種類がある。\n",
    "\n",
    "1. バイナリ ... 例: 「2016年の大統領選挙はヒラリー・クリントンが勝利する」など。値は0, 0.5, 1。0.5はDecisionが曖昧である。観測不可能である。という場合に投票する。\n",
    "2. スカラー ... 例: 「2018年終了時点でのニューヨーク証券取引所のダウ平均株価の値は？」。あらかじめ最小値と最大値を指定しておく。\n",
    "\n",
    "Decisionは大雑把に以下の流れをたどる\n",
    "\n",
    "作成 -> トレード -> Ballotのハッシュを提出 -> 投票結果の開示 -> SVDとRBCR(以下参照) -> 再分配\n",
    "\n",
    "## SVDとRBCR\n",
    "\n",
    "### ダミーデータの作成"
   ]
  },
  {
   "cell_type": "code",
   "execution_count": 327,
   "metadata": {
    "collapsed": true
   },
   "outputs": [],
   "source": [
    "import numpy as np\n",
    "import scipy as sp\n",
    "import pandas as pd\n",
    "\n",
    "# 初期値\n",
    "# n*m vote matrix, \n",
    "N = 5 # number of voters\n",
    "M = 6 # number of decisions\n",
    "RV = np.linspace(0,1,num=N) # initial Reputation Vector for each Voter"
   ]
  },
  {
   "cell_type": "code",
   "execution_count": 245,
   "metadata": {
    "collapsed": false,
    "deletable": true,
    "editable": true
   },
   "outputs": [],
   "source": [
    "\n",
    "d1 = np.random.binomial(1, 0.9, N) # Non-Contraversial Binary Decision\n",
    "d2 = np.random.binomial(1, 0.55, N) # Contraversial Binary Decision \n",
    "# c3 = np.ndarray([np.NaN for i in c1 if np.random.random() < 0.1]) \n",
    "d3 = np.random.normal(200, 50, N) # Scalar Decision\n",
    "\n",
    "# Contraversial Scalar Decision\n",
    "d4_1 = np.random.normal(100, 20, N - 2)\n",
    "d4_2 = np.random.normal(260, 40, 2)\n",
    "d4 = np.append(d4_1, d4_2)\n",
    "\n",
    "d5 = np.random.binomial(1, 0.9, N)\n",
    "d6 = np.random.binomial(1, 0.55, N)\n",
    "\n",
    "\n",
    "# Current Balance ... 現時点でのVTCの保有量、投票の「量」はこれに比例する。\n",
    "CB = np.random.exponential(scale=1.0, size=N)"
   ]
  },
  {
   "cell_type": "code",
   "execution_count": 246,
   "metadata": {
    "collapsed": false
   },
   "outputs": [
    {
     "data": {
      "text/plain": [
       "(5, 6)"
      ]
     },
     "execution_count": 246,
     "metadata": {},
     "output_type": "execute_result"
    }
   ],
   "source": [
    "VM = np.concatenate((d1, d2, d3, d4, d5, d6))\n",
    "VM = VM.reshape(N, M)\n",
    "VM.shape"
   ]
  },
  {
   "cell_type": "markdown",
   "metadata": {
    "deletable": true,
    "editable": true
   },
   "source": [
    "## Consensus Puzzle Piece 1: 特異値分解\n",
    "\n",
    "$n*m$ の投票行列に対してSVDを行う。\n",
    "\n",
    "* 行 ...それぞれの投票者\n",
    "* 列 ... Decisions\n",
    "\n",
    "これにより、投票者に協調させるようなインセンティブを与える仕組みをOperationalized Coordination by Singular Value Decomposition(特異値分解による操作的協調)と呼び、Truthcoinに特有の仕組みである。\n",
    "具体的には以下の手順で行う。\n",
    "\n",
    "### 1. 欠損値の計算\n",
    "\n",
    "特異値分解は欠損値を扱えないので、以下の手順で埋める。(Appendix 1を参照)\n",
    "\n",
    "### 2. \n",
    "\n",
    "協調を測るために、重み付きPCAの第一主成分(重みはその人の持つVTCの総量=Reputation Vector)を見る。この列はある投票者が架空の「代表的投票者」からどれだけ離れているかの指標になる。"
   ]
  },
  {
   "cell_type": "code",
   "execution_count": 247,
   "metadata": {
    "collapsed": false,
    "deletable": true,
    "editable": true
   },
   "outputs": [
    {
     "name": "stdout",
     "output_type": "stream",
     "text": [
      "(6, 6) (6,) (6, 6)\n",
      "(6, 6)\n"
     ]
    }
   ],
   "source": [
    "VM_weighted = VM * CB[:, np.newaxis]\n",
    "\n",
    "# since return value of `cov` function is adjusted to row.\n",
    "if M > N:\n",
    "    Gamma = np.cov(VM_weighted.T)\n",
    "else:\n",
    "    Gamma = np.cov(VM_weighted)\n",
    "\n",
    "U, Sigma, V = np.linalg.svd(Gamma)\n",
    "print(U.shape, Sigma.shape,V.shape)\n",
    "print(Gamma.shape)"
   ]
  },
  {
   "cell_type": "markdown",
   "metadata": {
    "collapsed": false,
    "deletable": true,
    "editable": true
   },
   "source": [
    "### 3. ノーマライズしたVote Matrixの取得\n",
    "\n",
    "すべてのDecisionに関して平均が0になるようにする。\n",
    "\n"
   ]
  },
  {
   "cell_type": "code",
   "execution_count": 297,
   "metadata": {
    "collapsed": false,
    "deletable": true,
    "editable": true
   },
   "outputs": [
    {
     "data": {
      "text/plain": [
       "array([[ 129.07409044],\n",
       "       [  65.93311072],\n",
       "       [-204.42808429],\n",
       "       [-121.13951426],\n",
       "       [ 130.56039738]])"
      ]
     },
     "execution_count": 297,
     "metadata": {},
     "output_type": "execute_result"
    }
   ],
   "source": [
    "mu = np.ones([N, M]).dot(np.diag(VM.mean(axis=0)))\n",
    "\n",
    "VM_normed = VM - mu\n",
    "\n",
    "c = VM_normed.dot(U[:,0:1]) \n",
    "\n",
    "c"
   ]
  },
  {
   "cell_type": "markdown",
   "metadata": {
    "collapsed": true,
    "deletable": true,
    "editable": true
   },
   "source": [
    "その後、$c$にscalarを足し、最も外れた値がゼロになるようにする。\n",
    "これにより、最も他と異なる値を報告した投票者が強い罰則を受けるように保証する。\n",
    "最小の値を足す場合、最大の値を引く場合の二通りがある。(特異値分解に2通りの解があることに起因する)片方は「正解」ベクトルで、もう片方は「正解の反対」ベクトルである。\n",
    "まずは2通りで計算を行い、その後に選ぶ"
   ]
  },
  {
   "cell_type": "code",
   "execution_count": 298,
   "metadata": {
    "collapsed": false
   },
   "outputs": [
    {
     "name": "stdout",
     "output_type": "stream",
     "text": [
      "[[ 333.50217473]\n",
      " [ 270.36119501]\n",
      " [   0.        ]\n",
      " [  83.28857003]\n",
      " [ 334.98848167]] [[ 137.08442208]\n",
      " [  78.60511456]\n",
      " [   0.        ]\n",
      " [  40.0909889 ]\n",
      " [ 290.32734957]]\n"
     ]
    }
   ],
   "source": [
    "# honesty vector\n",
    "c_adj1 = abs(c - (np.ones([N, 1]) * ( min(c)) ) )\n",
    "c_adj2 = abs(c - (np.ones([N, 1]) * ( max(c)) ) )\n",
    "\n",
    "print(c_adj1, (c_adj1.T * CB).T)"
   ]
  },
  {
   "cell_type": "markdown",
   "metadata": {},
   "source": [
    "このベクトルは、「最も逸脱した投票者からの距離」を表しているため、システムを攻撃したい主体は自身を二人の投票者に分けることで、最大の値を取得することができる。これは\n",
    "\n",
    "1. 集計結果を大きく変えるものではない\n",
    "2. 主体の持つ評判を下げる\n",
    "\n",
    "ため、大きな問題となるものではないが、以下のような操作を行うことで、簡単に回避することができる。\n"
   ]
  },
  {
   "cell_type": "code",
   "execution_count": 322,
   "metadata": {
    "collapsed": false
   },
   "outputs": [],
   "source": [
    "def adjust(c):\n",
    "    m = np.median((c.T * CB).T) # 重み付きmedian\n",
    "    res = np.where(c <= m, c, c - (0.5 * m)) \n",
    "    return res\n",
    "    \n",
    "    \n",
    "c_adj1_2 = adjust(c_adj1)\n",
    "c_adj2_2 = adjust(c_adj2)\n"
   ]
  },
  {
   "cell_type": "markdown",
   "metadata": {},
   "source": [
    "0.5倍しているのはより「逸脱していない側」に入るインセンティブを維持させるため。\n",
    "\n",
    "#### 「正解」のベクトルを選ぶ\n",
    "\n",
    "先ほど後回しにした、「2つのベクトルの内どちらが正解のものか選ぶ」作業を行う。\n",
    "「絶対に正解とわかる」投票が複数あれば問題は解決するので、大きな問題ではない。(人が目で見ればすぐわかる)例えば以下の解決策が考えられる。\n",
    "\n",
    "1. 前回のReputationを用いて重みをつける。\n",
    "2. PCAの因子得点(PCA-score)で重みをつける。\n",
    "\n",
    "ここでは仮に$c_adj1_2$が選ばれたものとする。\n",
    "\n",
    "#### 選ばれたベクトルに重みをつける\n",
    "    \n",
    "1. $r_t$を前回のReputationベクトルとし、ここから新しいReputationベクトルを計算\n",
    "2. 重みをつけた後に合計が1になるようにする。"
   ]
  },
  {
   "cell_type": "code",
   "execution_count": 328,
   "metadata": {
    "collapsed": false
   },
   "outputs": [],
   "source": [
    "\n",
    "def stochastic_vectorize(x):\n",
    "    return x / x.sum()\n",
    "\n",
    "# update Reputation Vector\n",
    "RV = stochastic_vectorize(c_adj1_2 * RV / RV.mean())\n",
    "\n",
    "# 投票の判定\n",
    "Outcome = stochastic_vectorize(RV.T.dot(VM))"
   ]
  },
  {
   "cell_type": "markdown",
   "metadata": {},
   "source": [
    "## Reputation Based Coin Redistribution(RBCR)\n",
    "\n",
    "投票の結果に応じて、Branch内のVoteCoinを再分配する。\n",
    "\n",
    "Ballotには公開鍵が含まれているので、再分配ごとに新しいアドレスを指定できる。\n",
    "\n",
    "各アカウントについて、前回のReputationベクトルと新しいReputationベクトルの値でスムージングする。\n",
    "スムージングパラメータ$\\alpha$を与える。例えば$\\alpha = 0.20$の場合、前回までの評判の寄与率を0.8にする。\n",
    "これにより、継続して誠実な投票を行うインセンティブが生まれる。\n",
    "\n",
    "RBCRを行うことで、投票者はCSH(つまりBTC)の形で収益を得られる。元となるのは\n",
    "1. Authorがマーケット作成時に支払った手数料\n",
    "2. トレーダーが支払ったトレーディング手数料\n",
    "\n",
    "(詳細は未定っぽい)\n",
    "\n",
    "\n",
    "### 悪意を持つ投票戦略の検討\n",
    "\n",
    "\n",
    "投票者が結託して誤った結果に投票すること(double-agent incentive)を防ぐため、Truthcoinでは投票者同士が互いに嘘をつくようなインセンティブを与える。(したがって投票者は「どこに投票しようとしているか」という情報の漏洩を防ごうとする)\n",
    "これをactive-coordinationと呼ぶ。\n",
    "\n",
    "2. SVDでは、他と協調していない投票者をダイレクトに罰している。Decisionの結果を確認するための探索コストは十分低いので(おそらく投票者間で情報を公開するインセンティブが働くため)、\n",
    "また、曖昧すぎるDecisionには0.5を投票することができるので、SVDは常に「意図的な非協調性投票」だけを検知することができる\n",
    "\n",
    "> 個人的に要検証\n",
    "\n",
    "3. 一度協調ゲームが成立してしまうと、常に正解票だけを投じ続けるのが投票者にとって最善の選択肢となる。\n",
    "\n",
    "4. VoteCoin自体も自由市場で売買されるため、プロジェクトに参加する主体が意欲を失うことはない。\n",
    "\n",
    "5. ビットコインに対する51%攻撃と同様、一人の投票者が多量のVTC(具体的には($1-\\phi = $)35%になるように設定する。Appendix 3を参照)を取得することで結果を操作することは理論上可能ではある。しかし、ここでのミソは「一人」で持たなくてはならない、という点にある。なぜかというと誰がどれだけVTCを持っているのかわからない(義匿名性)」が成立しているため、複数の主体が協力しようとしても裏切るインセンティブが働くからである。\n",
    "また、一人で行った場合、そのブランチの「信用」すなわちマーケットキャピタルが大きく下がるため、成功しても得るものは少ない\n",
    "\n",
    "> ここもまだ半信半疑\n",
    "\n",
    "\n",
    "6. Optional: 65%以下の一致しか見られなかった場合、「監査(Audit)」を起こすことができる。\n",
    "\n",
    "#### 公開監査の手順\n",
    "\n",
    "a. まず、Ballotから代表的なものが5つ選ばれ、VTCではなくCSHによる投票が行われる。\n",
    "詳細は省くが、つまりこれはHivemindの全参加者による投票という意味なので、「Hivemind自体を潰したい」という動機を持つサードパーティ出ない限り、ここから利益を得ることはできない(上訴の仕組みに似ている)\n",
    "\n",
    "7. 集団的投票攻撃の非現実性\n",
    "ここでは65%のVTCを持つグループは投票の結果を自由に操作することができるが、実際には3つの理由からそのような不正は行われないことが確信できる。\n",
    " 1. Stake ... そのブランチのVTC/USDは一気に下がる。\n",
    " 2. Trust ... グループで攻撃を仕掛けようとすると、グループ内における囚人のジレンマが避けられない。\n",
    " 3. Coordination ... グループ内のメンバーは、「どのDecisionを攻撃すべきか」という点において異なる選好をもつため、協調することができない。\n",
    "\n",
    "つまり攻撃者のグループは1. どのマーケットを攻撃するか 2. アウトカムはどのようにすべきかを予め決めなくてはならないが、これは攻撃者の一部が、そのDecisionにCSHを大量に賭けるインセンティブを与える。すると今度は他の攻撃者が「攻撃しない」インセンティブを獲得することになる。\n",
    "\n",
    "8. 単独犯による集団投票攻撃\n",
    "\n",
    "VTCの価格の低下というデメリットがあるとはいえ、原理上一度に大量の収益を得てドロンする(exit scam)ことができなくはない。そのような場合、最終的な決断はマイナーに委ねられ、攻撃を防ぐか、攻撃自体をなかったことにできる。(Appendices 3, 7,8参照)\n",
    "\n"
   ]
  },
  {
   "cell_type": "code",
   "execution_count": null,
   "metadata": {
    "collapsed": true
   },
   "outputs": [],
   "source": [
    "\n",
    "\n",
    "\n",
    "\n"
   ]
  }
 ],
 "metadata": {
  "kernelspec": {
   "display_name": "Python 3",
   "language": "python",
   "name": "python3"
  },
  "language_info": {
   "codemirror_mode": {
    "name": "ipython",
    "version": 3
   },
   "file_extension": ".py",
   "mimetype": "text/x-python",
   "name": "python",
   "nbconvert_exporter": "python",
   "pygments_lexer": "ipython3",
   "version": "3.5.2"
  }
 },
 "nbformat": 4,
 "nbformat_minor": 2
}
