{
 "cells": [
  {
   "cell_type": "markdown",
   "metadata": {
    "deletable": true,
    "editable": true
   },
   "source": [
    "# Demo for Truthcoin\n",
    "## Author: [joemphilips](http://joemphilips.com)\n",
    "\n",
    "This notebook has been written solely for the purpose of my learning about [Truthcoin/hivemind](http://bitcoinhivemind.com/).\n",
    "if there is any false statement or misconception, the entire blame goes to me and not to the original author(Paul Sztorc)\n",
    "\n"
   ]
  },
  {
   "cell_type": "markdown",
   "metadata": {
    "deletable": true,
    "editable": true
   },
   "source": [
    "## Overview\n",
    "\n",
    "Truthcoinでは、Cashcoin(CSH)とVoteCoin(VTC)という2つのコインを使用する。\n",
    "\n",
    "#### 1. CSH\n",
    "\n",
    "CSHはBitcoinと1:1で交換可能な通貨で、所持することによりTruthcoin特有の機能、例えばPredictoin Market(PM)の作成、PMのシェアの売買などを行えるようになる。\n",
    "\n",
    "#### 2. VTC\n",
    "\n",
    "VTCは「評判」を表すもので、Truthcoin特有の発明である。\n",
    "評判を交換可能なものとすることで様々なメリットがある。\n",
    "\n",
    "1. Sybil-attackに対する攻撃\n",
    "2. 所有権とコントロールのアラインメント ... 価値の追加、破棄はそのまま報酬とペナルティになる。(?)\n",
    "3. 活発に活動していないエージェントに対して罰則を与えることができる。\n",
    "4. インセンティブの計算から、「時間」という次元を取り除く。したがって「全評判を犠牲にしてCSHを手に入れる」という破滅的現象(exit scam, GOX)を防止することができる。\n",
    "\n",
    "Truthcoinはある種の「オラクルコーポレーション」であるサブセクション\n",
    "にわけられ、これを「ブランチ」と呼ぶ。\n",
    "それぞれのブランチは固有のVotecoinの集合を持ち、ブランチ内での保有VTCはブランチの収益の分配に使用される。\n",
    "\n",
    "価値の保存という機能においては、VTCはBTC・CSHには劣る。というのも常に投票に参加し続けていないと原価していくためである。\n",
    "イメージとしては従業員IDに近い。\n",
    "\n",
    "「投票トランザクション」と「移譲トランザクション」を分ける。\n",
    "全部で10000アドレス\n",
    "\n",
    "##### VTCの所有権は投票活動に応じて移行する\n",
    "\n",
    "1. 保有者が、投票をしなかったり多数派と同じ結果に一致しない投票をした場合、VTCは流出する。\n",
    "2. 投票者が少ない命題や、票が割れるような命題に投票した場合、VTCを手に入れる。\n",
    "\n",
    "### マーケットの自動調整\n",
    "\n",
    "1. 流通速度を加味して物価を調整するという方法を用いる、具体的には添付のExcel fileを参照。\n",
    "\n",
    "また、「トレーダー」として働くプロトコルは以下の役割を持つ。\n",
    "\n",
    "2. LMSR Technologyを用いて、一定の流動性が担保されていることを保証する。\n",
    "3. ブロックチェーンのプロパティを持ち、Cencership resistanceを担保する。\n",
    "4. 資本の流通や、マーケットの開示から閉鎖までをマネージする。\n",
    "\n",
    "\n"
   ]
  },
  {
   "cell_type": "markdown",
   "metadata": {
    "deletable": true,
    "editable": true
   },
   "source": [
    "\n",
    "### インセンティブ設計の基本方針\n",
    "\n",
    "#### 1. Author\n",
    "\n",
    "a. だれでも自由にあらゆるマーケットを作り、そのAuthorになることができる。\n",
    "b. Authorはアウトカムが、特定の日付までに誰の目にも明らかな形で開示されるようなマーケットだけを作成するようなインセンティブを持つ。\n",
    "c. Authorは、十分な流通量が見込める(異なる見解が社会に存在し、したがってPMを作るメリットが見込める)マーケットのみを作成するインセンティブがある。\n",
    "d. マーケットの開示当初から高い流動性を持つことが見込めるものを作製するインセンティブがある。\n",
    "e. トレーダーに自身が信用に値することを証明する必要がない(自動で証明される。\n",
    ")。\n",
    "\n",
    "\n",
    "#### 2. VoteCoin保持者(「投票者」)\n",
    "\n",
    "a. 投票者は、自身の所属するブランチにおける、ネットワークの長期的信頼を保つインセンティブがある。\n",
    "b. 投票者はすべての意思決定に投票するインセンティブがある。\n",
    "c. 投票者は他の投票者が投票すると思われる内容に自分も投票するインセンティブがある。\n",
    "\n",
    "#### 3. トレーダー\n",
    "\n",
    "通常の予測市場においてベッティングする人と全く同様。異なる点は\n",
    "\n",
    "a. カウンターパーティリスク(胴元の不正、オッズ比の操作、マーケットの内容の検閲、など)がない\n",
    "b. 代わりにブロックチェーンとその運用プロトコルを信用しなくてはならない。\n",
    "\n",
    "#### 4. マイナー\n",
    "\n",
    "a. ビットコインのサイドチェーンとして、merged miningを行うため、マイニングの限界費用はゼロである。\n",
    "したがってマイナーは常にブロックをマイニングする動機を持つ。\n",
    "ビットコインが消えた場合も、そのままTruthcoinのマイナーになれるため、マイニングをやめる動機にはならない。\n",
    "\n"
   ]
  },
  {
   "cell_type": "markdown",
   "metadata": {
    "deletable": true,
    "editable": true
   },
   "source": [
    "## マーケットの流れ\n",
    "\n",
    "Desisionは以下の状態を持つ。\n",
    "\n",
    "1. Active ... できたばかりの\n",
    "\n",
    "## ダミーデータの作成"
   ]
  },
  {
   "cell_type": "code",
   "execution_count": 245,
   "metadata": {
    "collapsed": false,
    "deletable": true,
    "editable": true
   },
   "outputs": [],
   "source": [
    "import numpy as np\n",
    "import scipy as sp\n",
    "import pandas as pd\n",
    "\n",
    "# n*m vote matrix, \n",
    "N = 5 # number of voters\n",
    "M = 6 # number of decisions\n",
    "#if N < M:\n",
    "#    raise ValueError(\"number of voter must be bigger than decisions\")\n",
    "d1 = np.random.binomial(1, 0.9, N) # Non-Contraversial Binary Decision\n",
    "d2 = np.random.binomial(1, 0.55, N) # Contraversial Binary Decision \n",
    "# c3 = np.ndarray([np.NaN for i in c1 if np.random.random() < 0.1]) \n",
    "d3 = np.random.normal(200, 50, N) # Scalar Decision\n",
    "\n",
    "# Contraversial Scalar Decision\n",
    "d4_1 = np.random.normal(100, 20, N - 2)\n",
    "d4_2 = np.random.normal(260, 40, 2)\n",
    "d4 = np.append(d4_1, d4_2)\n",
    "\n",
    "d5 = np.random.binomial(1, 0.9, N)\n",
    "d6 = np.random.binomial(1, 0.55, N)\n",
    "\n",
    "\n",
    "# Importance Vector\n",
    "IV = np.random.exponential(scale=1.0, size=N)"
   ]
  },
  {
   "cell_type": "code",
   "execution_count": 246,
   "metadata": {
    "collapsed": false
   },
   "outputs": [
    {
     "data": {
      "text/plain": [
       "(5, 6)"
      ]
     },
     "execution_count": 246,
     "metadata": {},
     "output_type": "execute_result"
    }
   ],
   "source": [
    "VM = np.concatenate((d1, d2, d3, d4, d5, d6))\n",
    "VM = VM.reshape(N, M)\n",
    "VM.shape"
   ]
  },
  {
   "cell_type": "markdown",
   "metadata": {
    "deletable": true,
    "editable": true
   },
   "source": [
    "## Consensus Puzzle Piece 1: 特異値分解\n",
    "\n",
    "$n*m$ の投票行列に対してSVDを行う。\n",
    "\n",
    "* 行 ...それぞれの投票者\n",
    "* 列 ... Decisions\n",
    "\n",
    "これにより、投票者に協調させるようなインセンティブを与える仕組みをOperationalized Coordination by Singular Value Decomposition(特異値分解による操作的協調)と呼び、Truthcoinに特有の仕組みである。\n",
    "具体的には以下の手順で行う。\n",
    "\n",
    "### 1. 欠損値の計算\n",
    "\n",
    "特異値分解は欠損値を扱えないので、以下の手順で埋める。(Appendix 1を参照)\n",
    "\n",
    "### 2. \n",
    "\n",
    "協調を測るために、重み付きPCAの第一主成分(重みはその人の持つVTCの総量=Reputation Vector)を見る。この列はある投票者が架空の「代表的投票者」からどれだけ離れているかの指標になる。"
   ]
  },
  {
   "cell_type": "code",
   "execution_count": 247,
   "metadata": {
    "collapsed": false,
    "deletable": true,
    "editable": true
   },
   "outputs": [
    {
     "name": "stdout",
     "output_type": "stream",
     "text": [
      "(6, 6) (6,) (6, 6)\n",
      "(6, 6)\n"
     ]
    }
   ],
   "source": [
    "VM_weighted = VM * IV[:, np.newaxis]\n",
    "\n",
    "# since return value of `cov` function is adjusted to row.\n",
    "if M > N:\n",
    "    Gamma = np.cov(VM_weighted.T)\n",
    "else:\n",
    "    Gamma = np.cov(VM_weighted)\n",
    "\n",
    "U, Sigma, V = np.linalg.svd(Gamma)\n",
    "print(U.shape, Sigma.shape,V.shape)\n",
    "print(Gamma.shape)"
   ]
  },
  {
   "cell_type": "markdown",
   "metadata": {
    "collapsed": false,
    "deletable": true,
    "editable": true
   },
   "source": [
    "### 3. ノーマライズしたVote Matrixの取得\n",
    "\n",
    "すべてのDecisionに関して平均が0になるようにする。\n",
    "\n"
   ]
  },
  {
   "cell_type": "code",
   "execution_count": 297,
   "metadata": {
    "collapsed": false,
    "deletable": true,
    "editable": true
   },
   "outputs": [
    {
     "data": {
      "text/plain": [
       "array([[ 129.07409044],\n",
       "       [  65.93311072],\n",
       "       [-204.42808429],\n",
       "       [-121.13951426],\n",
       "       [ 130.56039738]])"
      ]
     },
     "execution_count": 297,
     "metadata": {},
     "output_type": "execute_result"
    }
   ],
   "source": [
    "mu = np.ones([N, M]).dot(np.diag(VM.mean(axis=0)))\n",
    "\n",
    "VM_normed = VM - mu\n",
    "\n",
    "c = VM_normed.dot(U[:,0:1]) \n",
    "\n",
    "c"
   ]
  },
  {
   "cell_type": "markdown",
   "metadata": {
    "collapsed": true,
    "deletable": true,
    "editable": true
   },
   "source": [
    "その後、$c$にscalarを足し、最も外れた値がゼロになるようにする。\n",
    "これにより、最も他と異なる値を報告した投票者が強い罰則を受けるように保証する。\n",
    "最小の値を足す場合、最大の値を引く場合の二通りがある。(特異値分解に2通りの解があることに起因する)"
   ]
  },
  {
   "cell_type": "code",
   "execution_count": 298,
   "metadata": {
    "collapsed": false
   },
   "outputs": [
    {
     "name": "stdout",
     "output_type": "stream",
     "text": [
      "[[ 333.50217473]\n",
      " [ 270.36119501]\n",
      " [   0.        ]\n",
      " [  83.28857003]\n",
      " [ 334.98848167]] [[ 137.08442208]\n",
      " [  78.60511456]\n",
      " [   0.        ]\n",
      " [  40.0909889 ]\n",
      " [ 290.32734957]]\n"
     ]
    }
   ],
   "source": [
    "# honesty vector\n",
    "c_adj1 = abs(c - (np.ones([N, 1]) * ( min(c)) ) )\n",
    "c_adj2 = abs(c - (np.ones([N, 1]) * ( max(c)) ) )\n",
    "\n",
    "print(c_adj1, (c_adj1.T * IV).T)"
   ]
  },
  {
   "cell_type": "markdown",
   "metadata": {},
   "source": [
    "このベクトルは、「最も逸脱した投票者からの距離」を表しているため、システムを攻撃したい主体は自身を二人の投票者に分けることで、最大の値を取得することができる。これは\n",
    "\n",
    "1. 集計結果を大きく変えるものではない\n",
    "2. 主体の持つ評判を下げる\n",
    "\n",
    "ため、大きな問題となるものではないが、以下のような操作を行うことで、簡単に回避することができる。\n"
   ]
  },
  {
   "cell_type": "code",
   "execution_count": 322,
   "metadata": {
    "collapsed": false
   },
   "outputs": [],
   "source": [
    "def adjust(c):\n",
    "    m = np.median((c.T * IV).T) # 重み付きmedian\n",
    "    res = np.where(c <= m, c, c - (0.5 * m))\n",
    "    return res\n",
    "    \n",
    "    \n",
    "c_adj1_2 = adjust(c_adj1)\n",
    "c_adj2_2 = adjust(c_adj2)\n"
   ]
  },
  {
   "cell_type": "markdown",
   "metadata": {},
   "source": [
    "\n"
   ]
  },
  {
   "cell_type": "markdown",
   "metadata": {},
   "source": [
    "\n",
    "\n",
    "1. 一つ前のピリオドにおける評判と、現ピリオドの他のデータの平均を取る。\n",
    "2. バイナリの"
   ]
  }
 ],
 "metadata": {
  "kernelspec": {
   "display_name": "Python 3",
   "language": "python",
   "name": "python3"
  },
  "language_info": {
   "codemirror_mode": {
    "name": "ipython",
    "version": 3
   },
   "file_extension": ".py",
   "mimetype": "text/x-python",
   "name": "python",
   "nbconvert_exporter": "python",
   "pygments_lexer": "ipython3",
   "version": "3.5.2"
  }
 },
 "nbformat": 4,
 "nbformat_minor": 2
}
