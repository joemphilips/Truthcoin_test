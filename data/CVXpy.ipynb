{
 "cells": [
  {
   "cell_type": "markdown",
   "metadata": {},
   "source": [
    "## LMSRの問題点\n",
    "\n",
    "賭けの対象の組み合わせが大きくなる時、計算が#P困難になる。\n",
    "たとえば競馬は$n!$、州ごとの選挙結果は$2^n$。\n",
    "\n"
   ]
  },
  {
   "cell_type": "markdown",
   "metadata": {
    "deletable": true,
    "editable": true
   },
   "source": [
    "## [CVXpy](https://github.com/cvxgrp/cvxpy)\n",
    "\n",
    "凸最適化のためのpythonのハイレベルインターフェイス。\n",
    "\n",
    "* CVXOPT, ECOS ... interior-point solvers\n",
    "* SCS ... first-order solver. OpenMPを使用した、大規模並列計算向けのもの\n",
    "\n",
    "という三つのパッケージをまとめている。いずれもpythonとCで実装された計画法のライブラリ。\n",
    "\n",
    "MutlubにおけるCVXと同様、[disciplined convex programming(DCP)](http://dcp.stanford.edu./home)によって、問題の凸性を確かめる。"
   ]
  },
  {
   "cell_type": "code",
   "execution_count": 60,
   "metadata": {
    "collapsed": true
   },
   "outputs": [],
   "source": [
    "from cvxpy import *\n",
    "import numpy as np\n",
    "from matplotlib import pyplot"
   ]
  },
  {
   "cell_type": "code",
   "execution_count": 69,
   "metadata": {
    "collapsed": false
   },
   "outputs": [
    {
     "ename": "Exception",
     "evalue": "The 'maximize' objective must resolve to a scalar.",
     "output_type": "error",
     "traceback": [
      "\u001b[0;31m---------------------------------------------------------------------------\u001b[0m",
      "\u001b[0;31mException\u001b[0m                                 Traceback (most recent call last)",
      "\u001b[0;32m<ipython-input-69-8d6510bd8290>\u001b[0m in \u001b[0;36m<module>\u001b[0;34m()\u001b[0m\n\u001b[1;32m      4\u001b[0m \u001b[0mq\u001b[0m \u001b[0;34m=\u001b[0m \u001b[0mConstant\u001b[0m\u001b[0;34m(\u001b[0m\u001b[0mn\u001b[0m\u001b[0;34m)\u001b[0m\u001b[0;34m\u001b[0m\u001b[0m\n\u001b[1;32m      5\u001b[0m \u001b[0mconstraints\u001b[0m \u001b[0;34m=\u001b[0m \u001b[0;34m[\u001b[0m\u001b[0;36m0\u001b[0m\u001b[0;34m<=\u001b[0m\u001b[0mx\u001b[0m\u001b[0;34m,\u001b[0m \u001b[0mx\u001b[0m\u001b[0;34m<=\u001b[0m\u001b[0;36m1\u001b[0m\u001b[0;34m]\u001b[0m\u001b[0;34m\u001b[0m\u001b[0m\n\u001b[0;32m----> 6\u001b[0;31m \u001b[0mobjective\u001b[0m \u001b[0;34m=\u001b[0m \u001b[0mMaximize\u001b[0m\u001b[0;34m(\u001b[0m\u001b[0mconv\u001b[0m\u001b[0;34m(\u001b[0m\u001b[0mq\u001b[0m\u001b[0;34m,\u001b[0m \u001b[0mx\u001b[0m\u001b[0;34m)\u001b[0m \u001b[0;34m+\u001b[0m \u001b[0;34m(\u001b[0m\u001b[0mb\u001b[0m \u001b[0;34m*\u001b[0m \u001b[0msum_entries\u001b[0m\u001b[0;34m(\u001b[0m\u001b[0mentr\u001b[0m\u001b[0;34m(\u001b[0m\u001b[0mx\u001b[0m\u001b[0;34m)\u001b[0m\u001b[0;34m)\u001b[0m\u001b[0;34m)\u001b[0m\u001b[0;34m)\u001b[0m\u001b[0;34m\u001b[0m\u001b[0m\n\u001b[0m",
      "\u001b[0;32m/opt/conda/lib/python3.5/site-packages/cvxpy/problems/objective.py\u001b[0m in \u001b[0;36m__init__\u001b[0;34m(self, expr)\u001b[0m\n\u001b[1;32m     32\u001b[0m         \u001b[0;32mif\u001b[0m \u001b[0mself\u001b[0m\u001b[0;34m.\u001b[0m\u001b[0margs\u001b[0m\u001b[0;34m[\u001b[0m\u001b[0;36m0\u001b[0m\u001b[0;34m]\u001b[0m\u001b[0;34m.\u001b[0m\u001b[0msize\u001b[0m \u001b[0;34m!=\u001b[0m \u001b[0;34m(\u001b[0m\u001b[0;36m1\u001b[0m\u001b[0;34m,\u001b[0m \u001b[0;36m1\u001b[0m\u001b[0;34m)\u001b[0m\u001b[0;34m:\u001b[0m\u001b[0;34m\u001b[0m\u001b[0m\n\u001b[1;32m     33\u001b[0m             raise Exception(\"The '%s' objective must resolve to a scalar.\"\n\u001b[0;32m---> 34\u001b[0;31m                             % self.NAME)\n\u001b[0m\u001b[1;32m     35\u001b[0m \u001b[0;34m\u001b[0m\u001b[0m\n\u001b[1;32m     36\u001b[0m     \u001b[0;32mdef\u001b[0m \u001b[0m__repr__\u001b[0m\u001b[0;34m(\u001b[0m\u001b[0mself\u001b[0m\u001b[0;34m)\u001b[0m\u001b[0;34m:\u001b[0m\u001b[0;34m\u001b[0m\u001b[0m\n",
      "\u001b[0;31mException\u001b[0m: The 'maximize' objective must resolve to a scalar."
     ]
    }
   ],
   "source": [
    "n = 20 # number of securities able to buy\n",
    "b = Parameter()\n",
    "x = Variable(n)\n",
    "q = Constant(n)\n",
    "constraints = [0<=x, x<=1]\n",
    "objective = Maximize(conv(q, x) + (b * sum_entries(entr(x))))"
   ]
  },
  {
   "cell_type": "code",
   "execution_count": 30,
   "metadata": {
    "collapsed": false,
    "deletable": true,
    "editable": true
   },
   "outputs": [
    {
     "name": "stdout",
     "output_type": "stream",
     "text": [
      "None\n",
      "[[  2.26431465e-07]\n",
      " [ -1.64277740e-10]\n",
      " [  8.04944090e-08]\n",
      " [  9.61988903e-09]\n",
      " [  3.90547257e-01]\n",
      " [  2.79689487e-04]\n",
      " [  5.10828030e-08]\n",
      " [  2.66187716e-01]\n",
      " [  1.22938519e-08]\n",
      " [  5.79441194e-02]\n",
      " [  5.09908953e-08]\n",
      " [  6.60965227e-07]\n",
      " [  3.24050609e-01]\n",
      " [  8.15978392e-08]\n",
      " [  1.19785494e-09]\n",
      " [  9.91636837e-02]\n",
      " [  1.72470767e-01]\n",
      " [  9.87239304e-09]\n",
      " [  2.63667668e-01]\n",
      " [  3.75046588e-03]]\n"
     ]
    }
   ],
   "source": [
    "m = 30\n",
    "\n",
    "A = np.random.randn(m, n)\n",
    "b = np.random.randn(m)\n",
    "\n",
    "x = Variable(n) # n length vector.\n",
    "print(x.value)\n",
    "objective = Minimize(sum_squares(A*x - b))\n",
    "constraints = [0 <= x, x <= 1]\n",
    "prob = Problem(objective, constraints)\n",
    "res = prob.solve()\n",
    "print(x.value)"
   ]
  },
  {
   "cell_type": "code",
   "execution_count": 31,
   "metadata": {
    "collapsed": false,
    "deletable": true,
    "editable": true
   },
   "outputs": [],
   "source": [
    "x = Variable()\n",
    "y = Variable()\n",
    "constraints = [x + y == 1, x - y >= 1]\n",
    "obj = Minimize(square(x - y))"
   ]
  },
  {
   "cell_type": "code",
   "execution_count": 58,
   "metadata": {
    "collapsed": false
   },
   "outputs": [
    {
     "name": "stdout",
     "output_type": "stream",
     "text": [
      "(3, 3) (3, 3)\n",
      "[[[ 0  0  0]\n",
      "  [ 3  4  5]\n",
      "  [12 14 16]]\n",
      "\n",
      " [[ 0  3  6]\n",
      "  [12 16 20]\n",
      "  [30 35 40]]\n",
      "\n",
      " [[ 0  6 12]\n",
      "  [21 28 35]\n",
      "  [48 56 64]]]\n"
     ]
    }
   ],
   "source": [
    "A = np.arange(9).reshape((3,3))\n",
    "B = np.arange(9).reshape((3,3))\n",
    "print(A.shape, B.shape)\n",
    "print(np.einsum(\"ij, jk->ijk\", A, B))"
   ]
  },
  {
   "cell_type": "code",
   "execution_count": 54,
   "metadata": {
    "collapsed": false
   },
   "outputs": [
    {
     "data": {
      "text/plain": [
       "array([ 0,  1,  4,  9, 16, 25])"
      ]
     },
     "execution_count": 54,
     "metadata": {},
     "output_type": "execute_result"
    }
   ],
   "source": [
    "N = np.arange(6)\n",
    "np.einsum(\"i,i->i\", N, N)"
   ]
  }
 ],
 "metadata": {
  "kernelspec": {
   "display_name": "Python 3",
   "language": "python",
   "name": "python3"
  },
  "language_info": {
   "codemirror_mode": {
    "name": "ipython",
    "version": 3
   },
   "file_extension": ".py",
   "mimetype": "text/x-python",
   "name": "python",
   "nbconvert_exporter": "python",
   "pygments_lexer": "ipython3",
   "version": "3.5.2"
  }
 },
 "nbformat": 4,
 "nbformat_minor": 2
}
