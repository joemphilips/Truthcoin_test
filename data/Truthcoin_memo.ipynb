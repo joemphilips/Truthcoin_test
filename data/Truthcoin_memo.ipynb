{
 "cells": [
  {
   "cell_type": "markdown",
   "metadata": {
    "deletable": true,
    "editable": true
   },
   "source": [
    "# Truthcoin/Hivemind学習帳\n",
    "\n",
    "#### by [宮本 丈](http://joemphilips.com)\n",
    "\n",
    "[Hivemind](http://bitcoinhivemind.com/)の勉強にあたってのメモです。\n",
    "\n",
    "ほぼ[ホワイトペーパー](http://www.truthcoin.info/papers/truthcoin-whitepaper.pdf)の抜粋です。\n",
    "\n",
    "間違いがあったらごめんなさい。ご指摘大歓迎です。\n",
    "\n",
    "> このような引用文は宮本による注釈、メモを明示する際に記す。"
   ]
  },
  {
   "cell_type": "code",
   "execution_count": null,
   "metadata": {
    "collapsed": true,
    "deletable": true,
    "editable": true
   },
   "outputs": [],
   "source": []
  },
  {
   "cell_type": "markdown",
   "metadata": {
    "deletable": true,
    "editable": true
   },
   "source": [
    "## Overview\n",
    "\n",
    "[Truthcoin](http://www.truthcoin.info/)（現在の名称は[Hivemind](http://bitcoinhivemind.com/)）はビットコインのサイドチェーン上に予測市場を作るプロジェクトである。\n",
    "\n",
    "パブリックブロックチェーン上に予測市場を作るプロジェクトには他に[GNOSIS](https://gnosis.pm/)と[Augur](https://augur.net/)があり、これらはいずれもBitcoinではなくEthereumのブロックチェーンを使用している。\n",
    "\n",
    "分散予測市場においては「誰が答えの正しさを保証するのか」という点が問題だが、上の2つは（少なくともその一部を）ブロックチェーン外部のオラクルに頼る方針であるのに対し、Truthcoinでは全てブロックチェーン内で完結させる点に違いがある。\n",
    "\n",
    "これは[「外部オラクルはIncentive Compatibleではない」という作者の主張](http://www.truthcoin.info/blog/contracts-oracles-sidechains/)に基づいている。\n",
    "\n",
    "> どこまで現実的な主張であるかはまだ確信が持てない\n",
    "\n",
    "そのため、TruthcoinではCashcoin(CSH)とVoteCoin(VTC)という2つのコインを使用する。\n",
    "\n",
    "#### 1. CSH\n",
    "\n",
    "CSHはBitcoinと1:1で交換可能な通貨で、所持することによりTruthcoin特有の機能、例えばPredictoin Market(PM)の作成、PMのシェアの売買などを行えるようになる。\n",
    "\n",
    "#### 2. VTC\n",
    "\n",
    "VTCは「評判」を表すもので、Truthcoin特有の発明である。\n",
    "評判を交換可能なものとすることで様々なメリットがある。\n",
    "\n",
    "1. Sybil-attackに対する攻撃\n",
    "2. 所有権とコントロールのアラインメント ... 価値の追加、破棄はそのまま報酬とペナルティになる。(?)\n",
    "3. 活発に活動していないエージェントに対して罰則を与えることができる。\n",
    "4. インセンティブの計算から、「時間」という次元を取り除く。したがって「全評判を犠牲にしてCSHを手に入れる」という破滅的現象(exit scam, GOX)を防止することができる。\n",
    "\n",
    "Truthcoinはある種の「オラクルコーポレーション」であるサブセクション\n",
    "にわけられ、これを「ブランチ」と呼ぶ。\n",
    "それぞれのブランチは固有のVotecoinの集合を持ち、ブランチ内での保有VTCはブランチの収益の分配に使用される。\n",
    "\n",
    "価値の保存という機能においては、VTCはBTC・CSHには劣る。というのも常に投票に参加し続けていないと原価していくためである。\n",
    "イメージとしては従業員IDに近い。\n",
    "\n",
    "「投票トランザクション」と「移譲(送金)トランザクション」を分ける。\n",
    "投票と送金を同時に行うことができない（送金を行えるのは投票と投票の間のフェーズに限る）ことで、間違った投票をしつつ（VTCの価格が下がる前に）売り抜ける、ということができないようになっている。\n",
    "SVDに対するスパムを防ぐため、全部で10000アドレスに限定\n",
    "\n",
    "##### VTCの所有権は投票活動に応じて移行する\n",
    "\n",
    "1. 保有者が、投票をしなかったり多数派と同じ結果に一致しない投票をした場合、VTCは流出する。\n",
    "2. 投票者が少ない命題や、票が割れるようなDecisionに投票した場合、VTCを手に入れる。\n",
    "\n",
    "### マーケットの自動調整\n",
    "\n",
    "1. 流通速度を加味して物価を調整するという方法を用いる、具体的には添付のExcel fileを参照。\n",
    "\n",
    "また、プロトコルは以下の役割を持つ。\n",
    "\n",
    "2. [LMSR Technology](./LMSR_function_demo.ipynb)を用いて、一定の流動性が担保されていることを保証する。\n",
    "3. ブロックチェーンのプロパティを持ち、Cencership resistanceを担保する。\n",
    "4. 資本の流通や、マーケットの開示から閉鎖までをマネージする。\n",
    "\n",
    "\n"
   ]
  },
  {
   "cell_type": "markdown",
   "metadata": {
    "deletable": true,
    "editable": true
   },
   "source": [
    "\n",
    "### インセンティブ設計の基本方針\n",
    "\n",
    "予測市場はDecision(投票対象)の提起とそれに付随するマーケットの設定により行われ、これを行うものをその市場のAuthorと呼ぶ\n",
    "すべての予測市場は単一のブランチに属す。\n",
    "\n",
    "#### 1. Author\n",
    "\n",
    "a. だれでも自由にあらゆるマーケットを作り、そのAuthorになることができる。\n",
    "b. Authorは、アウトカムが特定の日付までに誰の目にも明らかな形で開示されるようなマーケットだけを作成するようなインセンティブを持つ。\n",
    "c. Authorは、十分な流通量が見込める(異なる見解が社会に存在し、したがってPMを作るメリットが見込める)マーケットのみを作成するインセンティブがある。\n",
    "d. マーケットの開示当初から高い流動性を持つことが見込めるものを作製するインセンティブがある。\n",
    "e. トレーダーに自身が信用に値することを証明する必要がない(自動で証明される。\n",
    ")。\n",
    "\n",
    "\n",
    "#### 2. VoteCoin保持者(「投票者」)\n",
    "\n",
    "a. 投票者は、自身の所属するブランチ(サブマーケットのこと。例えば「スポーツ」「サイエンス」「政治」など)における、ネットワークの長期的信頼を保つインセンティブがある。\n",
    "b. 投票者はすべての意思決定に投票するインセンティブがある。\n",
    "c. 投票者は他の投票者が投票すると思われる内容に自分も投票するインセンティブがある。\n",
    "\n",
    "#### 3. トレーダー\n",
    "\n",
    "通常の予測市場においてベッティングする人と全く同様。異なる点は\n",
    "\n",
    "a. カウンターパーティリスク(胴元の不正、オッズ比の操作、マーケットの内容の検閲、など)がない\n",
    "b. 代わりにブロックチェーンとその運用プロトコルを信用しなくてはならない。\n",
    "\n",
    "#### 4. マイナー\n",
    "\n",
    "a. ビットコインのサイドチェーンとして、merged miningを行うため、マイニングの限界費用はゼロである。\n",
    "したがってマイナーは常にブロックをマイニングする動機を持つ。\n",
    "ビットコインが消えた場合も、そのままTruthcoinのマイナーになれるため、マイニングをやめる動機にはならない。\n",
    "\n",
    "Voteをする際のトランザクションはBallotと呼ばれる。"
   ]
  },
  {
   "cell_type": "markdown",
   "metadata": {
    "deletable": true,
    "editable": true
   },
   "source": [
    "## マーケットの流れ\n",
    "\n",
    "投票対象となる命題をDecisionと呼び、以下の2種類がある。\n",
    "\n",
    "1. バイナリ ... 例: 「2016年の大統領選挙はヒラリー・クリントンが勝利する」など。値は0, 0.5, 1。0.5はDecisionが曖昧である。観測不可能である。という場合に投票する。\n",
    "2. スカラー ... 例: 「2018年終了時点でのニューヨーク証券取引所のダウ平均株価の値は？」。あらかじめ最小値と最大値を指定しておく。\n",
    "3. カテゴリカル(因子型) ... 例: 「時刻Xにおける場所Yの天気は{晴れ、曇、雨、雪}である。」計算上はバイナリとして扱う。\n",
    "\n",
    "また、マーケットは2次元以上のDecisionを持つことができる。例えば\n",
    "\n",
    "| 投票対象 | 2016年のアメリカ大統領選挙は選挙はヒラリー・クリントンが勝利する| しない |\n",
    "| :-- | :-- | :-- |\n",
    "| 2020年末のアメリカのGDPは2016年末よりも上 |   |  |\n",
    "| 下 |   |  | | \n",
    "\n",
    "これにより、参加者の多様な信念を吸収することができる。これを多次元予測市場(Multidemensional Prediction Market)と呼び、Truthcoin独自の機能である。\n",
    "また、次元を「チェイン」させることで、任意のパラメトリックな確率分布を表現できるため、たとえばハザードモデルなどを使用した生存時間予測なども可能\n",
    "\n",
    "\n",
    "[こちらの補講](http://www.truthcoin.info/papers/2_PM_Types.pdf)に詳しい。\n",
    "\n",
    "これらの機能を用いて複雑なマーケットを作成したとしても、投票時には独立に投票を受けるため(多分)、後述のSVDには影響しない\n",
    "\n",
    "Decisionは大雑把に以下の流れをたどる\n",
    "\n",
    "**作成 -> トレード -> Ballotのハッシュを提出 -> 投票結果の開示 -> SVDとRBCR(以下参照) -> 再分配**\n",
    "\n",
    "いったんBallotのハッシュを提出させることで、おたがいの投票内容を独立させる(投票者が他人の投票内容を参考にするということがないことを保証する)ことができる。\n",
    "\n",
    "\n",
    "### 以下はコードを用いた説明"
   ]
  },
  {
   "cell_type": "code",
   "execution_count": 2,
   "metadata": {
    "collapsed": true,
    "deletable": true,
    "editable": true
   },
   "outputs": [],
   "source": [
    "import numpy as np\n",
    "import scipy as sp\n",
    "import pandas as pd"
   ]
  },
  {
   "cell_type": "markdown",
   "metadata": {
    "deletable": true,
    "editable": true
   },
   "source": [
    "\n",
    "## SVDとRBCR\n",
    "\n",
    "* SVD ... 投票行列から「各投票者の誠実さ」を抽出する。\n",
    "* RBCR ... 誠実さに基づいてコインを再分配する。\n",
    "\n",
    "> ここで投票者の誠実な振る舞いがIncentive Compatibleであるように保証している点が、Truthcoinの心臓部であると言える。\n",
    "かなりアクロバティックなことをしている。\n",
    "\n",
    "\n",
    "### ダミーデータの作成"
   ]
  },
  {
   "cell_type": "code",
   "execution_count": 103,
   "metadata": {
    "collapsed": false,
    "deletable": true,
    "editable": true
   },
   "outputs": [
    {
     "name": "stdout",
     "output_type": "stream",
     "text": [
      "[[ 0.  ]\n",
      " [ 0.25]\n",
      " [ 0.5 ]\n",
      " [ 0.75]\n",
      " [ 1.  ]]\n"
     ]
    }
   ],
   "source": [
    "# 初期値\n",
    "# n*m vote matrix, \n",
    "N = 5 # number of voters\n",
    "M = 6 # number of decisions\n",
    "RV = np.linspace(0,1,num=N).reshape(N,1) # initial Reputation Vector for each Voter\n",
    "print(RV)"
   ]
  },
  {
   "cell_type": "code",
   "execution_count": 124,
   "metadata": {
    "collapsed": false,
    "deletable": true,
    "editable": true
   },
   "outputs": [
    {
     "name": "stdout",
     "output_type": "stream",
     "text": [
      "(5, 6)\n",
      "[ 1.  1.  1.  1.  1.  1.]\n"
     ]
    }
   ],
   "source": [
    "\n",
    "d1 = np.random.binomial(1, 0.9, N) # Non-Contraversial Binary Decision\n",
    "d2 = np.random.binomial(1, 0.55, N) # Contraversial Binary Decision \n",
    "# c3 = np.ndarray([np.NaN for i in c1 if np.random.random() < 0.1]) \n",
    "d3 = np.random.normal(200, 50, N) # Scalar Decision\n",
    "\n",
    "# Contraversial Scalar Decision\n",
    "d4_1 = np.random.normal(100, 20, N - 2)\n",
    "d4_2 = np.random.normal(260, 40, 2)\n",
    "d4 = np.append(d4_1, d4_2)\n",
    "\n",
    "d5 = np.random.binomial(1, 0.9, N)\n",
    "d6 = np.random.binomial(1, 0.55, N)\n",
    "\n",
    "\n",
    "# Current Balance ... 現時点でのVTCの保有量、投票の「量」はこれに比例する。\n",
    "CB = np.random.exponential(scale=1.0, size=N)\n",
    "print(VM.shape)\n",
    "print(np.max(VM.T, axis=1))"
   ]
  },
  {
   "cell_type": "code",
   "execution_count": 123,
   "metadata": {
    "collapsed": false,
    "deletable": true,
    "editable": true
   },
   "outputs": [
    {
     "name": "stdout",
     "output_type": "stream",
     "text": [
      "[[   1.            0.          171.10985915   93.53984537    1.            1.        ]\n",
      " [   1.            1.          255.76681197   91.65815194    1.            0.        ]\n",
      " [   1.            0.          249.59841603  120.27508682    1.            1.        ]\n",
      " [   1.            0.          196.85612618  216.19506194    0.            0.        ]\n",
      " [   1.            1.          201.27566605  291.14515277    0.            0.        ]] \n",
      "\n",
      "[[ 1.          0.          0.66900728  0.32128251  1.          1.        ]\n",
      " [ 1.          1.          1.          0.31481943  1.          0.        ]\n",
      " [ 1.          0.          0.97588274  0.41311039  1.          1.        ]\n",
      " [ 1.          0.          0.76967033  0.74256796  0.          0.        ]\n",
      " [ 1.          1.          0.7869499   1.          0.          0.        ]]\n"
     ]
    }
   ],
   "source": [
    "VM = np.c_[d1, d2, d3, d4, d5, d6]\n",
    "\n",
    "print(VM, \"\\n\") # 正規化前\n",
    "VM = (VM / np.max(VM.T, axis=1).T) # Scalar値でも、投票範囲が[0,1]になるよう正規化\n",
    "print(VM)\n"
   ]
  },
  {
   "cell_type": "markdown",
   "metadata": {
    "deletable": true,
    "editable": true
   },
   "source": [
    "## Consensus Puzzle Piece 1: 特異値分解\n",
    "\n",
    "$n*m$ の投票行列に対してSVDを行う。\n",
    "\n",
    "* 行 ...それぞれの投票者\n",
    "* 列 ... Decisions\n",
    "\n",
    "これにより、投票者に協調させるようなインセンティブを与える仕組みをOperationalized Coordination by Singular Value Decomposition(特異値分解による操作的協調)と呼び、Truthcoinに特有の仕組みである。\n",
    "具体的には以下の手順で行う。\n",
    "\n",
    "### 1. 欠損値の計算\n",
    "\n",
    "特異値分解は欠損値を扱えないので、以下の手順で埋める。(Appendix 1を参照)\n",
    "\n",
    "### 2. \n",
    "\n",
    "協調を測るために、重み付きPCAの第一主成分(重みはその人の持つVTCの総量=Reputation Vector)を見る。この列はある投票者が架空の「代表的投票者」からどれだけ離れているかの指標になる。"
   ]
  },
  {
   "cell_type": "code",
   "execution_count": 110,
   "metadata": {
    "collapsed": false,
    "deletable": true,
    "editable": true
   },
   "outputs": [
    {
     "ename": "ValueError",
     "evalue": "operands could not be broadcast together with shapes (6,5) (5,1) ",
     "output_type": "error",
     "traceback": [
      "\u001b[0;31m---------------------------------------------------------------------------\u001b[0m",
      "\u001b[0;31mValueError\u001b[0m                                Traceback (most recent call last)",
      "\u001b[0;32m<ipython-input-110-6253f9cb314d>\u001b[0m in \u001b[0;36m<module>\u001b[0;34m()\u001b[0m\n\u001b[0;32m----> 1\u001b[0;31m \u001b[0mVM_weighted\u001b[0m \u001b[0;34m=\u001b[0m \u001b[0mVM\u001b[0m \u001b[0;34m*\u001b[0m \u001b[0mCB\u001b[0m\u001b[0;34m[\u001b[0m\u001b[0;34m:\u001b[0m\u001b[0;34m,\u001b[0m \u001b[0mnp\u001b[0m\u001b[0;34m.\u001b[0m\u001b[0mnewaxis\u001b[0m\u001b[0;34m]\u001b[0m\u001b[0;34m\u001b[0m\u001b[0m\n\u001b[0m\u001b[1;32m      2\u001b[0m \u001b[0;34m\u001b[0m\u001b[0m\n\u001b[1;32m      3\u001b[0m \u001b[0;31m# since the demension of return value for `cov` function is adjusted to row.\u001b[0m\u001b[0;34m\u001b[0m\u001b[0;34m\u001b[0m\u001b[0m\n\u001b[1;32m      4\u001b[0m \u001b[0;32mif\u001b[0m \u001b[0mM\u001b[0m \u001b[0;34m>\u001b[0m \u001b[0mN\u001b[0m\u001b[0;34m:\u001b[0m\u001b[0;34m\u001b[0m\u001b[0m\n\u001b[1;32m      5\u001b[0m     \u001b[0mGamma\u001b[0m \u001b[0;34m=\u001b[0m \u001b[0mnp\u001b[0m\u001b[0;34m.\u001b[0m\u001b[0mcov\u001b[0m\u001b[0;34m(\u001b[0m\u001b[0mVM_weighted\u001b[0m\u001b[0;34m.\u001b[0m\u001b[0mT\u001b[0m\u001b[0;34m)\u001b[0m\u001b[0;34m\u001b[0m\u001b[0m\n",
      "\u001b[0;31mValueError\u001b[0m: operands could not be broadcast together with shapes (6,5) (5,1) "
     ]
    }
   ],
   "source": [
    "VM_weighted = VM * CB[:, np.newaxis]\n",
    "\n",
    "# since the demension of return value for `cov` function is adjusted to row.\n",
    "if M > N:\n",
    "    Gamma = np.cov(VM_weighted.T)\n",
    "else:\n",
    "    Gamma = np.cov(VM_weighted)\n",
    "\n",
    "U, Sigma, V = np.linalg.svd(Gamma)\n"
   ]
  },
  {
   "cell_type": "markdown",
   "metadata": {
    "collapsed": false,
    "deletable": true,
    "editable": true
   },
   "source": [
    "### 3. ノーマライズしたVote Matrixの取得\n",
    "\n",
    "すべてのDecisionに関して平均が0になるようにする。\n",
    "\n"
   ]
  },
  {
   "cell_type": "code",
   "execution_count": 45,
   "metadata": {
    "collapsed": false,
    "deletable": true,
    "editable": true
   },
   "outputs": [
    {
     "data": {
      "text/plain": [
       "array([[-0.62987139],\n",
       "       [ 1.12564469],\n",
       "       [-0.29681399],\n",
       "       [-0.56701649],\n",
       "       [ 0.36805719]])"
      ]
     },
     "execution_count": 45,
     "metadata": {},
     "output_type": "execute_result"
    }
   ],
   "source": [
    "mu = np.ones([N, M]).dot(np.diag(VM.mean(axis=0)))\n",
    "\n",
    "VM_normed = VM - mu\n",
    "\n",
    "c = VM_normed.dot(U[:,0:1]) \n",
    "\n",
    "c"
   ]
  },
  {
   "cell_type": "markdown",
   "metadata": {
    "collapsed": true,
    "deletable": true,
    "editable": true
   },
   "source": [
    "その後、$c$にscalarを足し、最も外れた値がゼロになるようにする。\n",
    "これにより、最も他と異なる値を報告した投票者が強い罰則を受けるように保証する。\n",
    "最小の値を足す場合、最大の値を引く場合の二通りがある。(特異値分解に2通りの解があることに起因する)片方は「正解」ベクトルで、もう片方は「正解の反対」ベクトルである。\n",
    "まずは2通りで計算を行い、その後に選ぶ"
   ]
  },
  {
   "cell_type": "code",
   "execution_count": 46,
   "metadata": {
    "collapsed": false,
    "deletable": true,
    "editable": true
   },
   "outputs": [
    {
     "name": "stdout",
     "output_type": "stream",
     "text": [
      "[[ 0.        ]\n",
      " [ 1.75551609]\n",
      " [ 0.3330574 ]\n",
      " [ 0.06285491]\n",
      " [ 0.99792858]] \n",
      " [[ 0.        ]\n",
      " [ 1.03617784]\n",
      " [ 0.17901083]\n",
      " [ 0.07304624]\n",
      " [ 0.02732131]]\n"
     ]
    }
   ],
   "source": [
    "# honesty vector\n",
    "c_adj1 = abs(c - (np.ones([N, 1]) * ( min(c)) ) )\n",
    "c_adj2 = abs(c - (np.ones([N, 1]) * ( max(c)) ) )\n",
    "\n",
    "print(c_adj1, \"\\n\",(c_adj1.T * CB).T)"
   ]
  },
  {
   "cell_type": "markdown",
   "metadata": {
    "deletable": true,
    "editable": true
   },
   "source": [
    "このベクトルは、「最も逸脱した投票者からの距離」を表しているため、システムを攻撃したい主体は自身を二人の投票者に分けることで、最大の値を取得することができる。これは\n",
    "\n",
    "1. 集計結果を大きく変えるものではない\n",
    "2. 主体の持つ評判を下げる\n",
    "\n",
    "ため、大きな問題となるものではないが、以下のような操作を行うことで、簡単に回避することができる。\n"
   ]
  },
  {
   "cell_type": "code",
   "execution_count": 47,
   "metadata": {
    "collapsed": false,
    "deletable": true,
    "editable": true
   },
   "outputs": [],
   "source": [
    "def adjust(c):\n",
    "    m = np.median((c.T * CB).T) # 重み付きmedian\n",
    "    res = np.where(c <= m, c, c - (0.5 * m)) \n",
    "    return res\n",
    "    \n",
    "    \n",
    "c_adj1_2 = adjust(c_adj1)\n",
    "c_adj2_2 = adjust(c_adj2)\n"
   ]
  },
  {
   "cell_type": "markdown",
   "metadata": {
    "deletable": true,
    "editable": true
   },
   "source": [
    "0.5倍しているのはより「逸脱していない側」に入るインセンティブを維持させるため。\n",
    "\n",
    "#### 「正解」のベクトルを選ぶ\n",
    "\n",
    "先ほど後回しにした、「2つのベクトルの内どちらが正解のものか選ぶ」作業を行う。\n",
    "「絶対に正解とわかる」投票が複数あれば問題は解決するので、大きな問題ではない。(人が目で見ればすぐわかる)例えば以下の解決策が考えられる。\n",
    "\n",
    "1. 前回のReputationを用いて重みをつける。\n",
    "2. PCAの因子得点(PCA-score)で重みをつける。\n",
    "\n",
    "ここでは仮に`c_adj1_2`が選ばれたものとする。\n",
    "\n",
    "#### 選ばれたベクトルに重みをつける\n",
    "    \n",
    "1. $r_t$を前回のReputationベクトルとし、ここから新しいReputationベクトルを計算\n",
    "2. 重みをつけた後に合計が1になるようにする。"
   ]
  },
  {
   "cell_type": "code",
   "execution_count": 79,
   "metadata": {
    "collapsed": false
   },
   "outputs": [
    {
     "name": "stdout",
     "output_type": "stream",
     "text": [
      "RV is [ 0.    0.25  0.5   0.75  1.  ] \n",
      "\n",
      "[[ 0.        ]\n",
      " [ 1.71899297]\n",
      " [ 0.29653428]\n",
      " [ 0.06285491]\n",
      " [ 0.96140546]]\n",
      "[ 0.20405957  0.03511713  0.02796955  0.19472378  0.27221003  0.26591995]\n"
     ]
    }
   ],
   "source": [
    "print(\"RV is {} \\n\".format(RV))\n",
    "print(c_adj1_2)\n",
    "print(stochastic_vectorize((c_adj1_2.ravel() * RV / RV.mean()).T.dot(VM)))"
   ]
  },
  {
   "cell_type": "code",
   "execution_count": 52,
   "metadata": {
    "collapsed": false,
    "deletable": true,
    "editable": true
   },
   "outputs": [
    {
     "name": "stdout",
     "output_type": "stream",
     "text": [
      "[[ 0.          0.          0.          0.          0.          0.        ]\n",
      " [ 0.01409429  0.00405956  0.00357425  0.01328632  0.03305224  0.03193335]\n",
      " [ 0.02818858  0.00811911  0.00714851  0.02657263  0.06610448  0.06386669]\n",
      " [ 0.04228287  0.01217867  0.01072276  0.03985895  0.09915671  0.09580004]\n",
      " [ 0.05637716  0.01623822  0.01429702  0.05314526  0.13220895  0.12773338]]\n"
     ]
    }
   ],
   "source": [
    "def stochastic_vectorize(x, axis=None):\n",
    "    return np.abs(x) / np.abs(x).sum(axis=axis)\n",
    "\n",
    "# update Reputation Vector\n",
    "RV = stochastic_vectorize(c_adj1_2 * RV / RV.mean())\n",
    "\n",
    "# 投票の判定\n",
    "Outcome = stochastic_vectorize(RV.T.dot(VM))\n",
    "print(Outcome)"
   ]
  },
  {
   "cell_type": "markdown",
   "metadata": {
    "deletable": true,
    "editable": true
   },
   "source": [
    "## Reputation Based Coin Redistribution(RBCR)\n",
    "\n",
    "投票の結果に応じて、Branch内のVoteCoinを再分配する。\n",
    "\n",
    "Ballotには公開鍵が含まれているので、再分配ごとに新しいアドレスを指定できる。\n",
    "\n",
    "各アカウントについて、前回のReputationベクトルと新しいReputationベクトルの値でスムージングする。\n",
    "スムージングパラメータ$\\alpha$を与える。例えば$\\alpha = 0.20$の場合、前回までの評判の寄与率を0.8にする。\n",
    "これにより、継続して誠実な投票を行うインセンティブが生まれる。\n",
    "\n",
    "RBCRを行うことで、投票者はCSH(つまりBTC)の形で収益を得られる。元となるのは\n",
    "1. Authorがマーケット作成時に支払った手数料\n",
    "2. トレーダーが支払ったトレーディング手数料\n",
    "\n",
    "(手数料の詳細設定は後述)\n",
    "\n",
    "\n",
    "### 悪意を持つ投票戦略の検討\n",
    "\n",
    "#### 連立耐戦略性\n",
    "\n",
    "投票者が結託して誤った結果に投票すること(double-agent incentive)を防ぐため、Truthcoinでは投票者同士が互いに嘘をつくようなインセンティブを与える。(したがって投票者は「どこに投票しようとしているか」という情報の漏洩を防ごうとする)\n",
    "これをactive-coordinationと呼ぶ。\n",
    "\n",
    "2. SVDでは、他と協調していない投票者をダイレクトに罰している。Decisionの結果を確認するための探索コストは十分低いので(おそらく投票者間で情報を公開するインセンティブが働くため)、\n",
    "また、曖昧すぎるDecisionには0.5を投票することができるので、SVDは常に「意図的な非協調性投票」だけを検知することができる\n",
    "\n",
    "> 個人的に要検証\n",
    "\n",
    "3. 一度協調ゲームが成立してしまうと、常に正解票だけを投じ続けるのが投票者にとって最善の選択肢となる。\n",
    "\n",
    "4. VoteCoin自体も自由市場で売買されるため、プロジェクトに参加する主体が意欲を失うことはない。\n",
    "\n",
    "5. ビットコインに対する51%攻撃と同様、一人の投票者が多量のVTC(具体的には($1-\\phi = $)35%になるように設定する。Appendix 3を参照)を取得することで結果を操作することは理論上可能ではある。しかし、ここでのミソは「一人」で持たなくてはならない、という点にある。なぜかというと誰がどれだけVTCを持っているのかわからない(義匿名性)」が成立しているため、複数の主体が協力しようとしても裏切るインセンティブが働くからである。\n",
    "また、一人で行った場合、そのブランチの「信用」すなわちマーケットキャピタルが大きく下がるため、成功しても得るものは少ない\n",
    "\n",
    "\n",
    "6. Optional: 65%以下の一致しか見られなかった場合、「監査(Audit)」を起こすことができる。\n",
    "\n",
    "#### 公開監査の手順\n",
    "\n",
    "a. まず、Ballotから代表的なものが5つ選ばれ、VTCではなくCSHによる投票が行われる。\n",
    "詳細は省くが、つまりこれはHivemindの全参加者による投票という意味なので、「Hivemind自体を潰したい」という動機を持つサードパーティ出ない限り、ここから利益を得ることはできない(上訴の仕組みに似ている)\n",
    "\n",
    "7. 集団的投票攻撃の非現実性\n",
    "ここでは65%のVTCを持つグループは投票の結果を自由に操作することができるが、実際には3つの理由からそのような不正は行われないことが確信できる。\n",
    " 1. Stake ... そのブランチのVTC/USDは一気に下がる。\n",
    " 2. Trust ... グループで攻撃を仕掛けようとすると、グループ内における囚人のジレンマが避けられない。\n",
    " 3. Coordination ... グループ内のメンバーは、「どのDecisionを攻撃すべきか」という点において異なる選好をもつため、協調することができない。\n",
    "\n",
    "つまり攻撃者のグループは1. どのマーケットを攻撃するか 2. アウトカムはどのようにすべきかを予め決めなくてはならないが、これは攻撃者の一部が、そのDecisionにCSHを大量に賭けるインセンティブを与える。すると今度は他の攻撃者が「攻撃しない」インセンティブを獲得することになる。\n",
    "\n",
    "#### 8. 単独犯による集団投票攻撃(耐戦略性)\n",
    "\n",
    "VTCの価格の低下というデメリットがあるとはいえ、原理上一度に大量の収益を得てドロンする(exit scam)ことができなくはない。そのような場合、最終的な決断はマイナーに委ねられ、攻撃を防ぐか、攻撃自体をなかったことにできる。(Appendices 3, 7,8参照)。したがって攻撃に成功しても利益はマイナスとなる。このようなマイナーによる罰則が抑止力として働くため、実際に不正を行うものはいないことが予想できる。\n",
    "また、マイナーが自体の不正は\n",
    "1. BTCの価格自体が下落する\n",
    "2. 最後の権利としてのハードフォークは常に可能である。\n",
    "ということから、考えにくい(Bitcoinが安全な理由と同様)\n",
    "\n",
    "<img src=\"images/attack_scenario.png\">\n",
    "\n",
    "この図がわかりやすい。攻撃者が利益を得るのは右上だけだが、マイナーによって封じられる。\n",
    "\n",
    "## Minerの活動\n",
    "\n",
    "[Drivechain](http://www.truthcoin.info/blog/drivechain/)の説明を見たほうがわかりやすい。\n",
    "\n",
    "マイナーに「同じ機能をもつサイドチェーンを自由に作らせない」ようにサイドチェーンのプロトコルを作る。\n",
    "という点がミソ。\n",
    "\n",
    "## Authorの活動\n",
    "\n",
    "マーケットの作成は2段階で行われる。これらは別々のAuthorによって行われてもよく、その場合それぞれDecision Author(DA), Market Author(MA)と呼ばれる。\n",
    "\n",
    "### 1. Decisionの作成\n",
    "\n",
    "Feeは定額とする。Feeの決め方はAppendix 4を参照\n",
    "\n",
    "### 2. マーケットの追加\n",
    "\n",
    "Nをマーケットが持つパラメータ(次元)の数とする\n",
    "大量のマーケット作成によるスパム防止のため、以下の2種類のFeeを設定する。\n",
    "\n",
    "#### 1. $b * log(N)$\n",
    "\n",
    "bはAuthorが設定するマーケットの「流動性」パラメータで、Beta Amplificationと呼ばれる。[別のNoteに詳しく書いた](./LMSR_function_demo.html)\n",
    "\n",
    "これにはマーケット開始時の流動性の担保の役割がある。(「誰も最初に賭ける人物になりたがらない」という問題を防ぐ)\n",
    "\n",
    "大勢のトレーダーが参加すると期待される場合には低いbを、少ないと期待される場合は大きいbを設定する。\n",
    "\n",
    "#### 2. $Fee_s * N^2$\n",
    "\n",
    "これはパラメータが多すぎるマーケットに対する罰則のために存在する。\n",
    "著者いわく必須ではない。単に$N>256$をbanするだけでも十分機能する。\n",
    "\n",
    "Decisionにスカラー値がある場合、投票結果が境界部分(最大、最小)出ない部分のみrefundすることで、適切な境界条件を設定するインセンティブがあるらしいが、この点はよくわからない。\n",
    "\n",
    "### Authorの収益\n",
    "\n",
    "上記に加えてAuthorはトレーディング手数料(例えば0.1%)を設定できる。高すぎると(別の誰かMarketを作りなおすことで)作成時に投資したBondを失う可能性があるが、低すぎると収益が得られない。\n",
    "\n",
    "**全手数料の内50%は投票者の、25%はDAとMAの収益となる。**\n",
    "\n",
    "したがってAuthorは起業家のような性質を持つと言える。\n",
    "\n",
    "\n",
    "## トレーダーの活動\n",
    "\n",
    "ビットコインと予測市場の大まかな仕組みを知っていれば奇妙なところはないので省略。\n",
    "\n",
    "先述のコスト関数(LMSR)の計算などはAutomated Market Makerが行う。これはフルノードを保持したサービスで、EthereumにおいてEVMが走るノードと似たようなものだと思えば良い。計算はブロックチェーンの内容から決定論的に導出できるので、ユーザーがこのサービスを信用できない場合は自分でノードを持つことができる。したがって**マーケットの状態について嘘をつくことができない。**\n",
    "\n"
   ]
  },
  {
   "cell_type": "markdown",
   "metadata": {
    "deletable": true,
    "editable": true
   },
   "source": [
    "# 「ブランチ」のライフサイクル\n",
    "\n",
    "Truthcoin内におけるブランチは投票者の分割のために働く。\n",
    "例えば、ある投票者は政治的なことに興味が有り、その事実判定は喜んで行うかもしれないが、スポーツの結果については興味がないということがあり得るかもしれない。\n",
    "\n",
    "そこで、ビットコインにおけるフォークのように、ブランチをフォークさせることができる。パブリックブロックチェーン上でのフォークの場合、いずれが正当なチェーンであるかの合意が取れないといった問題やダブルスペンドなどの望ましくない性質があるが、VTCの場合、収入は長期的なものでトレーダーの流通量に依存するので大きな問題はない。\n",
    "\n",
    "したがって(ブロックチェーンそのもののフォークとは別に)ブランチをフォークさせてVTCの量を倍にすることができる仕組みをとる。\n",
    "\n",
    "とはいえブランチ作成の限界費用が0というのはスパミングなどの観点から望ましくないので、ブランチの作成権は、フォーク元のVTCの所有者に委ねられる。\n",
    "\n",
    "### ブランチの死\n",
    "\n",
    "3回の投票期間にわたってAuthorが現れなかった場合、ブランチは自動消滅する。\n"
   ]
  },
  {
   "cell_type": "markdown",
   "metadata": {
    "deletable": true,
    "editable": true
   },
   "source": [
    "# 課題\n",
    "\n",
    "## Confirmation Timeの短縮\n",
    "\n",
    "ビットコインの10分に一ブロックというのでも十分動作はするが、トレーダー間の競争を健全なものにするには出来る限りブロックインターバルを小さくしたほうが良い。[GHOST](https://eprint.iacr.org/2013/881.pdf)などの実装が待たれる。\n",
    "\n",
    "また、予測市場における売買はその順番によって利益が変わるため、一般に売買の履歴が一意に定まることを前提としている。\n",
    "\n",
    "したがって\n",
    "\n",
    "1. ブロックサイズを十分小さくして同じMarketに対する売買が一ブロックにつき1トランザクションしかないことを保証する。\n",
    "2. 大きなブロック内で売買の順序が一意に保証される機構を導入する。\n",
    "\n",
    "のいずれかを用いる方法がある。\n",
    "しかしこれは他人のトランザクションを見てから、同じ内容を先にブロックチェーンに含ませることで利益を得る（Front-Running）問題を引き起こす。\n",
    "これは考慮すべき変数が多すぎてどれだけ実際に問題になるかはわからないが、\n",
    "他人のトランザクションが「良い」取引であるかどうかを確認するのが難しいので、大きな問題にならない可能性もある。\n",
    "\n",
    "## Beta Amplification\n",
    "\n",
    "AugurのようにLS-LMSRのような仕組みを使うかの検討\n",
    "\n",
    "マーケット開始時に$b_1$から$b_2$へ流動性パラメータを変更する場合、追加コストは$(b_2 - b_1) * log(N)$となる、過去のテストから、これは**トレーディング開始後に行ってもトレーダーへの不利益はないことが判明している。**\n",
    "したがって、「取引はしたくないが真実を知りたい」という人がマーケットに寄付を行うことで流動性を高めることは十分に可能である。\n",
    "\n",
    "#### LS-LMSRの問題点\n",
    "すべてのトレーダーに少しずつ課金して流動性を確保するため、はじめに参画したトレーダーよりも後に参加したトレーダーを有利にする点にある。\n",
    "基本的に、早く市場に参入することにはメリットがなくてはならない。なぜかというと、その後市場が大きくなりバズれば、情報を手に入れるコストは下がり、正しい内容に賭けるのが楽になるため、リスクが少ないからである。\n",
    "\n",
    "#### メリット\n",
    "\n",
    "1. トレーダーが課金の対象となることは見た目ほど悪いことではない。なぜかというと、トレーダーは売ることも可能で、その際にovercompensatedになるためだ。課金額は中心(2証券市場の場合、各50%の状態)に最大となり、端で0に近づく\n",
    "2. 早く参加したトレーダーが低い流動性に苦しむことになる問題を解消できる。\n",
    "3. 特に興味深いメリットは、マーケットAuthorに、すでに存在するマーケットのコピーをしないインセンティブを与える点にある。\n",
    "4. したがって、マーケット作成者の起業家精神を刺激する。\n",
    "\n",
    "と、メリットのほうが多いので、後々は多分LS-LMSRになる。\n",
    "\n",
    "## 連続値（スカラー）のDecisionを認めることに伴う問題\n",
    "\n",
    "まず、マーケット作成時には絶対に上限と下限を設定する必要がある。なぜかというとそうしなければトレードもSVDも不可能であるため。\n",
    "\n",
    "### 下限を非負にすると、望ましくないレバレッジをもたらす\n",
    "\n",
    "よくわからんが、そうらしい。\n",
    "\n",
    "さらに、Decisionの幅を変更するとさらに面倒になる。仮にTechnical Minimumを0に設定すると、使用されない流動性を置くことになり、LMSRまたはLS-LMSRの利点を損なうことになる。\n",
    "\n"
   ]
  }
 ],
 "metadata": {
  "kernelspec": {
   "display_name": "Python 3",
   "language": "python",
   "name": "python3"
  },
  "language_info": {
   "codemirror_mode": {
    "name": "ipython",
    "version": 3
   },
   "file_extension": ".py",
   "mimetype": "text/x-python",
   "name": "python",
   "nbconvert_exporter": "python",
   "pygments_lexer": "ipython3",
   "version": "3.5.2"
  }
 },
 "nbformat": 4,
 "nbformat_minor": 2
}
