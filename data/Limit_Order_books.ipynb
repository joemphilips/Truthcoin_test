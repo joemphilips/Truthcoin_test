{
 "cells": [
  {
   "cell_type": "markdown",
   "metadata": {
    "deletable": true,
    "editable": true
   },
   "source": [
    "# [Limit Order Books](https://people.maths.ox.ac.uk/porterm/papers/gould-qf-final.pdf)\n",
    "\n",
    "LOBの研究は経済学、物理学、数学、統計学、心理学といった様々な視点から行うことができる。\n",
    "\n",
    "経済学の場合、個人のトレーダーに注目し、LOBはsequential gemesとみなす。\n",
    "\n",
    "物理学の場合、オーダーフローはランダムなものとみなされ、動態の把握に統計物理のテクニックを用いる。\n",
    "\n"
   ]
  },
  {
   "cell_type": "markdown",
   "metadata": {},
   "source": [
    "# [Smart Markets for Stablecoins](http://cdetr.io/smart-markets/#AMMDepthChart)\n",
    "\n"
   ]
  }
 ],
 "metadata": {
  "kernelspec": {
   "display_name": "Python 3",
   "language": "python",
   "name": "python3"
  },
  "language_info": {
   "codemirror_mode": {
    "name": "ipython",
    "version": 3
   },
   "file_extension": ".py",
   "mimetype": "text/x-python",
   "name": "python",
   "nbconvert_exporter": "python",
   "pygments_lexer": "ipython3",
   "version": "3.5.2"
  }
 },
 "nbformat": 4,
 "nbformat_minor": 2
}
