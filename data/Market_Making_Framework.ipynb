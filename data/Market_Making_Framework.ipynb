{
 "cells": [
  {
   "cell_type": "markdown",
   "metadata": {
    "deletable": true,
    "editable": true
   },
   "source": [
    "## [An Optimization-Based Framework for Automated Market-Making](http://web.eecs.umich.edu/~jabernet/ec041-abernethy.pdf)\n",
    "\n",
    "予測市場において売買の対象となる証券のことをSecurityと呼ぶ。\n",
    "ここでは、任意のSecurityにおいて機能する汎用のフレームワークを提唱する。\n",
    "LMSRとQuad-SCPMの両方を一般化したもの\n",
    "\n",
    "さらに、その優位性を示すため、計算効率性の高いマーケットを2種紹介する。\n",
    "それぞれ以下のメリットがある。\n",
    "\n",
    "1. 順列組み合わせのあるSecurityの場合にLMSRだと#P困難になる問題を解消する。\n",
    "2. 地理上の特定の場所に賭ける際に効率が良い。\n",
    "\n",
    "最後に、凸法が効率的に図示できない際に、マーケットメーカーの予算ないで、凸法条件を緩める方法を提唱する。\n",
    "\n",
    "この論文は以前に提唱した[no-regret learningと予測市場との関係](https://arxiv.org/pdf/1003.0034.pdf)の続きである。\n",
    "\n",
    "AgrawalとPetersも凸最適化に基づくフレームワークを提唱し、リミット売買に適用している。conjugate duality(共役双対性？)との関係は見ていない。\n",
    "アウトカム空間のすべてを考慮せずに、「完備でない」security空間に適用した初の論文\n",
    "\n",
    "### アルゴリズムの条件\n",
    "\n",
    "1. 特定のsecurityの価格は常に正\n",
    "2. ショートを認めたい場合、価格の合計は常に1にならなくてはならない。\n",
    "\n",
    "ふたつ目の条件は裁定取引に過剰な利益を与えないために存在するが、時には緩められることもある。section5で詳しく見る。\n",
    "\n",
    "アウトカム空間がn!のオーダーになる時(例えば競馬)、ペアベット(例: AがBに勝利した時のみ1ドル)あるいはsubset bet(集合C内の馬の内1つ以上がk位になった時のみ1ドル)の価格関数の計算は[#P困難](https://ja.wikipedia.org/wiki/Sharp-P)になる。\n",
    "\n",
    "アウトカム空間が$2^n$の時(例えば州ごとの2政党の選挙)、2つのベースイベントの組み合わせ(オハイオとフロリダの両方で民主党が勝利する)の価格関数の計算は#P困難になる。\n",
    "\n",
    "[過去の研究](https://5harad.com/papers/tournaments.pdf)から、トーナメントの場合はLMSRでも多少の修正でOKだということが判明している。\n",
    "contract purchaseがpath independenceである時、コスト関数が必要であるということを示す。\n",
    "\n",
    "### 3.1 マーケットメイカーが持つ自然な制約\n",
    "\n",
    "条件1: 経路独立性\n",
    "$r = r` + r``$を満たす任意の$r, r`, r``$について、コスト関数$C$が\n",
    "$$\n",
    "C(r|r_1, ...,r_t) = C(r`|r_1,...,r_t) + C(r``|r_1,...,r_t)\n",
    "$$\n",
    "\n",
    "を満たす。`\n",
    "\n",
    "## 4 マーケットの例\n",
    "\n",
    "### 4.1 Subset betting\n",
    "\n",
    "$n$頭の馬の競馬を考える。結果は順列組み合わせであり、LMSRでは計算量が現実的ではない。\n",
    "\n",
    "そこで、複数の賭け方を用意し、独立したマーケットを用いることができる(多分、現在の競馬で一般的な方法)。\n",
    "\n",
    "これはマージンを増やせるという点で胴元にはありがたいかもしれないが、情報量の流出という観点からは好ましくない(お互いに独立でない情報を独立な市場で扱ってしまっているので)\n",
    "\n",
    "2007年に[Chen et alが提唱したsubset betttingと呼ばれる方法](http://people.csail.mit.edu/enikolova/papers/ec2007-permutation-betting.pdf)ではLMSRの近似アルゴリズムを提案しているが、ここではよりシンプルな方法をみる。\n",
    "\n",
    "... 省略\n",
    "\n",
    "### 4.2 Sphere betting\n",
    "\n",
    "\n",
    "地球上の位置をunit vector $u \\in R^3$とする\n",
    "\n",
    "なぜ2次元ではなく3次元かというと、(経度緯度で考えるよりも)原点を地球の中心として見たほうが定式化しやすいから\n",
    "\n",
    "security iは$u$に隕石が落ちると$u_i+1$ドルの価値を持つ。\n",
    "(常に正であることを保証するために$u_i$を足している。とのこと)\n",
    "\n",
    "つまり、r購入し、uに落ちたら$(u+1)*r$になる。\n",
    "\n",
    "この例ではアウトカム空間は無限だが、証券空間は小さい\n",
    "\n",
    "この"
   ]
  },
  {
   "cell_type": "code",
   "execution_count": 2,
   "metadata": {
    "collapsed": false
   },
   "outputs": [
    {
     "name": "stderr",
     "output_type": "stream",
     "text": [
      "/opt/conda/lib/python3.5/site-packages/matplotlib/font_manager.py:273: UserWarning:\n",
      "\n",
      "Matplotlib is building the font cache using fc-list. This may take a moment.\n",
      "\n",
      "/opt/conda/lib/python3.5/site-packages/matplotlib/font_manager.py:273: UserWarning:\n",
      "\n",
      "Matplotlib is building the font cache using fc-list. This may take a moment.\n",
      "\n"
     ]
    }
   ],
   "source": [
    "import numpy as np\n",
    "# for regular plotly ctions\n",
    "import plotly.plotly as py\n",
    "import plotly    \n",
    "import plotly.graph_objs as go\n",
    "from plotly.offline import init_notebook_mode, download_plotlyjs\n",
    "\n",
    "# for widgets\n",
    "from ipywidgets import interact, interactive\n",
    "x, y = np.meshgrid(np.linspace(0, 200, 32), np.linspace(0, 200, 32))"
   ]
  },
  {
   "cell_type": "code",
   "execution_count": 1,
   "metadata": {
    "collapsed": false
   },
   "outputs": [
    {
     "ename": "NameError",
     "evalue": "name 'np' is not defined",
     "output_type": "error",
     "traceback": [
      "\u001b[0;31m---------------------------------------------------------------------------\u001b[0m",
      "\u001b[0;31mNameError\u001b[0m                                 Traceback (most recent call last)",
      "\u001b[0;32m<ipython-input-1-f0733950d0b6>\u001b[0m in \u001b[0;36m<module>\u001b[0;34m()\u001b[0m\n\u001b[0;32m----> 1\u001b[0;31m \u001b[0mx\u001b[0m\u001b[0;34m,\u001b[0m \u001b[0my\u001b[0m \u001b[0;34m=\u001b[0m \u001b[0mnp\u001b[0m\u001b[0;34m.\u001b[0m\u001b[0mmeshgrid\u001b[0m\u001b[0;34m(\u001b[0m\u001b[0mnp\u001b[0m\u001b[0;34m.\u001b[0m\u001b[0mlinspace\u001b[0m\u001b[0;34m(\u001b[0m\u001b[0;36m0\u001b[0m\u001b[0;34m,\u001b[0m \u001b[0;36m200\u001b[0m\u001b[0;34m,\u001b[0m \u001b[0;36m32\u001b[0m\u001b[0;34m)\u001b[0m\u001b[0;34m,\u001b[0m \u001b[0mnp\u001b[0m\u001b[0;34m.\u001b[0m\u001b[0mlinspace\u001b[0m\u001b[0;34m(\u001b[0m\u001b[0;36m0\u001b[0m\u001b[0;34m,\u001b[0m \u001b[0;36m200\u001b[0m\u001b[0;34m,\u001b[0m \u001b[0;36m32\u001b[0m\u001b[0;34m)\u001b[0m\u001b[0;34m)\u001b[0m\u001b[0;34m\u001b[0m\u001b[0m\n\u001b[0m\u001b[1;32m      2\u001b[0m \u001b[0mSphereCostFunction\u001b[0m\u001b[0;34m(\u001b[0m\u001b[0ml\u001b[0m\u001b[0;34m,\u001b[0m \u001b[0;34m**\u001b[0m\u001b[0mq\u001b[0m\u001b[0;34m)\u001b[0m\u001b[0;34m\u001b[0m\u001b[0m\n\u001b[1;32m      3\u001b[0m \u001b[0;34m\u001b[0m\u001b[0m\n\u001b[1;32m      4\u001b[0m \u001b[0;34m@\u001b[0m\u001b[0minteract\u001b[0m\u001b[0;34m(\u001b[0m\u001b[0ml\u001b[0m\u001b[0;34m=\u001b[0m\u001b[0;34m(\u001b[0m\u001b[0;36m0.5\u001b[0m\u001b[0;34m,\u001b[0m \u001b[0;36m30.0\u001b[0m\u001b[0;34m,\u001b[0m \u001b[0;36m1\u001b[0m\u001b[0;34m)\u001b[0m\u001b[0;34m)\u001b[0m\u001b[0;34m\u001b[0m\u001b[0m\n\u001b[1;32m      5\u001b[0m \u001b[0;32mdef\u001b[0m \u001b[0mplot\u001b[0m\u001b[0;34m(\u001b[0m\u001b[0ml\u001b[0m\u001b[0;34m=\u001b[0m\u001b[0;36m1\u001b[0m\u001b[0;34m)\u001b[0m\u001b[0;34m:\u001b[0m\u001b[0;34m\u001b[0m\u001b[0m\n",
      "\u001b[0;31mNameError\u001b[0m: name 'np' is not defined"
     ]
    }
   ],
   "source": [
    "def norm2(x, y):\n",
    "    return np.sqrt((x**2) * (y**2))\n",
    "\n",
    "def SphereCostFunction(l, x, y):\n",
    "    if norm2(x,y) <= 2l:\n",
    "        return 1/(4l) * norm2(x,y) ** 2 + (x, y *)\n",
    "    elif norm2(x, y) > 2l:\n",
    "        return norm2(x, y) + q * 1 -l\n",
    "    \n",
    "\n",
    "@interact(l=(0.5, 30.0, 1))\n",
    "def plot(l=1):\n",
    "    z = SphereCostFunction(l, x, y)\n",
    "    # U,V = np.gradient(z)\n",
    "    trace1 = go.Surface(x=x,y=y, z=z)     \n",
    "    data=[trace1]\n",
    "    layout = go.Layout(\n",
    "    title='Cost to buy',\n",
    "    margin=dict(\n",
    "        l=0,\n",
    "        r=0,\n",
    "        b=0,\n",
    "        t=0\n",
    "        )\n",
    "    )\n",
    "    fig = go.Figure(data=data, layout=layout)\n",
    "    plotly.offline.iplot(fig, filename='Cost_to_by_x-3d-surface')"
   ]
  },
  {
   "cell_type": "markdown",
   "metadata": {},
   "source": [
    "# Automated Market Maker\n",
    "# Theory and Practice\n",
    "\n",
    "## 理論に基づく定式化と一般化\n",
    "\n",
    "コスト関数に求められる条件は大きく5つある。\n",
    "\n",
    "1. 凸性 ... 証券会社内の裁定取引の防止のために必要\n",
    "2. 単調性 ... $x_i <= y_i$を満たすすべてのベクトル$x$,$y$について、$C(x) <= C(y)$\n",
    "3. 損失上限の存在 ... マーケットメイカーがトレーダーに対し支払う金額が無限になるリスクが存在しない\n",
    "4. 並進不変性 ...$C(x+\\alpha) = C(x) + \\alpha$ ... 全証券を一定単位購入するさいにかかるコストは、全証券の量（マーケットの人気）に関係がない\n",
    "5. スケール不変性 ... 任意の$x$と$\\gamma(>0)$について$C(\\gamma * x) = \\gamma * C(x)$倍のリスクには倍のコストがかかる\n",
    "\n",
    "### 双対問題への対応付け\n",
    "\n",
    "コスト関数$C$に対して以下のような等式を満たす$\\mathbb{S}$と$f(x)$を**凸共役**であるという。\n",
    "$$\n",
    "C(x) = \\max_{y \\in \\mathbb{S}}[x*y-f(y)]\n",
    "$$\n",
    "このように定式化しておくと[上記のコスト関数の条件を考える上で便利](https://ja.wikipedia.org/wiki/%E5%8F%8C%E5%AF%BE%E5%95%8F%E9%A1%8C)\n",
    "コスト関数が証券の量空間(quantity space)を表すものだとすると、これは対応する価格空間(price space)を表すものであるという解釈ができる。\n",
    "\n",
    "### Spike問題\n",
    "\n",
    "LMSRで$b$を32に固定したGHPMでは、不定期に価格が一瞬飛ぶ、Spikinessと呼ばれる問題が発生した。\n",
    "\n",
    "微分可能性、非負、pairwise-unboundednessの3つを同時に満たす自動マーケットメイカーは必ずSpikeを発生させることが証明されている。\n",
    "\n",
    "また、現時点ですべてのマーケットメイカーが後者2つを満たす。"
   ]
  },
  {
   "cell_type": "markdown",
   "metadata": {},
   "source": [
    "# [A New Understanding of Prediction Markets Via No-Regret Learning](https://arxiv.org/pdf/1003.0034.pdf)\n",
    "by yeling Cheng\n",
    "\n",
    "機械学習とAutomated Market Makingとの関係について、\n",
    "\n",
    "凸型のマーケットはFollow the Regularized Leader Learning algorithmと一致する。\n",
    "\n",
    "オンライン学習と予測市場との関係をつかむ鍵となるのは、トレードを学習アルゴリズムにおける**損失(losses)**と考えることである。\n",
    "\n"
   ]
  },
  {
   "cell_type": "markdown",
   "metadata": {},
   "source": [
    "# [online Portfolio Selection](https://arxiv.org/pdf/1212.2129.pdf)\n",
    "\n",
    "金融工学で広く使われるオンラインポートフォリオセレクションのサーベイ。\n",
    "ファイナンス、統計学、人工知能、機械学習、データマイニングなどの分野で独立に研究されている。\n",
    "本論文では\n",
    "\n",
    "1. 定式化\n",
    "2. state of the artのアルボリズムを分類\n",
    "3. Capital Growth Theoryとの関係\n",
    "\n",
    "ポートフォリオ選択は複数のアセットの配置を調整して、富の最大化を図ることであり、\n",
    "金融工学の中心課題である。多くの2つの学派がある。\n",
    "\n",
    "* Markowitzの平均・分散理論 ... 主に金融のコミュニティから誕生\n",
    "* Capital Growth Theory ... KellyやHakansson,Ziembaによるもので、情報理論から誕生\n",
    "\n",
    "前者は特定の期間(バッチ)において、リターン(平均)とリスク(分散)のトレードオフを考慮する。\n",
    "\n",
    "対して後者は、複数期間や連続時間で考慮するため、オンライン学習的である。この論文では後者のみ考慮する。\n",
    "\n",
    "アルゴリズムの分類においては、以下のようにわけられる。\n",
    "\n",
    "* Follow-the-Winner\n",
    " * Follow the Regularized Leader\n",
    "* Follow-the-Loser\n",
    "* パターンマッチング\n",
    "* メタ学習\n",
    "\n",
    "\n",
    "## Follow the leader Algorithm\n",
    "\n"
   ]
  },
  {
   "cell_type": "markdown",
   "metadata": {},
   "source": [
    "# [予測市場を拒むエリートの数学的説明](http://www.overcomingbias.com/2015/05/elite-evaluator-rents.html)\n",
    "\n",
    "新規映画の持ち込みのクオリティが$x$であるとする。$x$は$[0,1]$の一様分布である。\n",
    "配給会社は、自社に持ち込まれる映画のうち、公開されるものは最低でも$x_i$のクオリティを持つことを保証し、それ以下の映画を公開してしまった場合は、大きなペナルティを被ることとする。\n",
    "\n",
    "配給会社の数を$[1,N]$とする。それぞれ異なる評判を持つものとする。\n",
    "\n",
    "配給会社は$x_i$を$[0,2^{i-N}$から選ばなくてはならない。"
   ]
  }
 ],
 "metadata": {
  "kernelspec": {
   "display_name": "Python 3",
   "language": "python",
   "name": "python3"
  },
  "language_info": {
   "codemirror_mode": {
    "name": "ipython",
    "version": 3
   },
   "file_extension": ".py",
   "mimetype": "text/x-python",
   "name": "python",
   "nbconvert_exporter": "python",
   "pygments_lexer": "ipython3",
   "version": "3.5.2"
  }
 },
 "nbformat": 4,
 "nbformat_minor": 2
}
